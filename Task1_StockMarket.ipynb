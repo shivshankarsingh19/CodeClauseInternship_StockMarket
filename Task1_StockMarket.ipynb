{
 "cells": [
  {
   "cell_type": "code",
   "execution_count": 1,
   "metadata": {
    "_cell_guid": "b1076dfc-b9ad-4769-8c92-a6c4dae69d19",
    "_uuid": "8f2839f25d086af736a60e9eeb907d3b93b6e0e5",
    "execution": {
     "iopub.execute_input": "2023-09-23T03:39:55.345426Z",
     "iopub.status.busy": "2023-09-23T03:39:55.345022Z",
     "iopub.status.idle": "2023-09-23T03:39:55.352633Z",
     "shell.execute_reply": "2023-09-23T03:39:55.351138Z",
     "shell.execute_reply.started": "2023-09-23T03:39:55.345392Z"
    }
   },
   "outputs": [],
   "source": [
    "import numpy as np\n",
    "import pandas as pd\n",
    "import seaborn as sb\n",
    "import matplotlib.pyplot as plt\n",
    "import re\n",
    "from textblob import TextBlob\n",
    "from sklearn.model_selection import train_test_split\n",
    "from sklearn.discriminant_analysis import LinearDiscriminantAnalysis"
   ]
  },
  {
   "cell_type": "code",
   "execution_count": 2,
   "metadata": {
    "execution": {
     "iopub.execute_input": "2023-09-23T03:39:55.355665Z",
     "iopub.status.busy": "2023-09-23T03:39:55.354980Z",
     "iopub.status.idle": "2023-09-23T03:39:55.456516Z",
     "shell.execute_reply": "2023-09-23T03:39:55.455452Z",
     "shell.execute_reply.started": "2023-09-23T03:39:55.355628Z"
    }
   },
   "outputs": [],
   "source": [
    "data=pd.read_csv('Combined_News_DJIA.csv')"
   ]
  },
  {
   "cell_type": "code",
   "execution_count": 3,
   "metadata": {
    "execution": {
     "iopub.execute_input": "2023-09-23T03:39:55.458573Z",
     "iopub.status.busy": "2023-09-23T03:39:55.458173Z",
     "iopub.status.idle": "2023-09-23T03:39:55.497272Z",
     "shell.execute_reply": "2023-09-23T03:39:55.496089Z",
     "shell.execute_reply.started": "2023-09-23T03:39:55.458506Z"
    }
   },
   "outputs": [
    {
     "data": {
      "text/html": [
       "<div>\n",
       "<style scoped>\n",
       "    .dataframe tbody tr th:only-of-type {\n",
       "        vertical-align: middle;\n",
       "    }\n",
       "\n",
       "    .dataframe tbody tr th {\n",
       "        vertical-align: top;\n",
       "    }\n",
       "\n",
       "    .dataframe thead th {\n",
       "        text-align: right;\n",
       "    }\n",
       "</style>\n",
       "<table border=\"1\" class=\"dataframe\">\n",
       "  <thead>\n",
       "    <tr style=\"text-align: right;\">\n",
       "      <th></th>\n",
       "      <th>Date</th>\n",
       "      <th>Label</th>\n",
       "      <th>Top1</th>\n",
       "      <th>Top2</th>\n",
       "      <th>Top3</th>\n",
       "      <th>Top4</th>\n",
       "      <th>Top5</th>\n",
       "      <th>Top6</th>\n",
       "      <th>Top7</th>\n",
       "      <th>Top8</th>\n",
       "      <th>...</th>\n",
       "      <th>Top16</th>\n",
       "      <th>Top17</th>\n",
       "      <th>Top18</th>\n",
       "      <th>Top19</th>\n",
       "      <th>Top20</th>\n",
       "      <th>Top21</th>\n",
       "      <th>Top22</th>\n",
       "      <th>Top23</th>\n",
       "      <th>Top24</th>\n",
       "      <th>Top25</th>\n",
       "    </tr>\n",
       "  </thead>\n",
       "  <tbody>\n",
       "    <tr>\n",
       "      <th>0</th>\n",
       "      <td>2008-08-08</td>\n",
       "      <td>0</td>\n",
       "      <td>b\"Georgia 'downs two Russian warplanes' as cou...</td>\n",
       "      <td>b'BREAKING: Musharraf to be impeached.'</td>\n",
       "      <td>b'Russia Today: Columns of troops roll into So...</td>\n",
       "      <td>b'Russian tanks are moving towards the capital...</td>\n",
       "      <td>b\"Afghan children raped with 'impunity,' U.N. ...</td>\n",
       "      <td>b'150 Russian tanks have entered South Ossetia...</td>\n",
       "      <td>b\"Breaking: Georgia invades South Ossetia, Rus...</td>\n",
       "      <td>b\"The 'enemy combatent' trials are nothing but...</td>\n",
       "      <td>...</td>\n",
       "      <td>b'Georgia Invades South Ossetia - if Russia ge...</td>\n",
       "      <td>b'Al-Qaeda Faces Islamist Backlash'</td>\n",
       "      <td>b'Condoleezza Rice: \"The US would not act to p...</td>\n",
       "      <td>b'This is a busy day:  The European Union has ...</td>\n",
       "      <td>b\"Georgia will withdraw 1,000 soldiers from Ir...</td>\n",
       "      <td>b'Why the Pentagon Thinks Attacking Iran is a ...</td>\n",
       "      <td>b'Caucasus in crisis: Georgia invades South Os...</td>\n",
       "      <td>b'Indian shoe manufactory  - And again in a se...</td>\n",
       "      <td>b'Visitors Suffering from Mental Illnesses Ban...</td>\n",
       "      <td>b\"No Help for Mexico's Kidnapping Surge\"</td>\n",
       "    </tr>\n",
       "    <tr>\n",
       "      <th>1</th>\n",
       "      <td>2008-08-11</td>\n",
       "      <td>1</td>\n",
       "      <td>b'Why wont America and Nato help us? If they w...</td>\n",
       "      <td>b'Bush puts foot down on Georgian conflict'</td>\n",
       "      <td>b\"Jewish Georgian minister: Thanks to Israeli ...</td>\n",
       "      <td>b'Georgian army flees in disarray as Russians ...</td>\n",
       "      <td>b\"Olympic opening ceremony fireworks 'faked'\"</td>\n",
       "      <td>b'What were the Mossad with fraudulent New Zea...</td>\n",
       "      <td>b'Russia angered by Israeli military sale to G...</td>\n",
       "      <td>b'An American citizen living in S.Ossetia blam...</td>\n",
       "      <td>...</td>\n",
       "      <td>b'Israel and the US behind the Georgian aggres...</td>\n",
       "      <td>b'\"Do not believe TV, neither Russian nor Geor...</td>\n",
       "      <td>b'Riots are still going on in Montreal (Canada...</td>\n",
       "      <td>b'China to overtake US as largest manufacturer'</td>\n",
       "      <td>b'War in South Ossetia [PICS]'</td>\n",
       "      <td>b'Israeli Physicians Group Condemns State Tort...</td>\n",
       "      <td>b' Russia has just beaten the United States ov...</td>\n",
       "      <td>b'Perhaps *the* question about the Georgia - R...</td>\n",
       "      <td>b'Russia is so much better at war'</td>\n",
       "      <td>b\"So this is what it's come to: trading sex fo...</td>\n",
       "    </tr>\n",
       "    <tr>\n",
       "      <th>2</th>\n",
       "      <td>2008-08-12</td>\n",
       "      <td>0</td>\n",
       "      <td>b'Remember that adorable 9-year-old who sang a...</td>\n",
       "      <td>b\"Russia 'ends Georgia operation'\"</td>\n",
       "      <td>b'\"If we had no sexual harassment we would hav...</td>\n",
       "      <td>b\"Al-Qa'eda is losing support in Iraq because ...</td>\n",
       "      <td>b'Ceasefire in Georgia: Putin Outmaneuvers the...</td>\n",
       "      <td>b'Why Microsoft and Intel tried to kill the XO...</td>\n",
       "      <td>b'Stratfor: The Russo-Georgian War and the Bal...</td>\n",
       "      <td>b\"I'm Trying to Get a Sense of This Whole Geor...</td>\n",
       "      <td>...</td>\n",
       "      <td>b'U.S. troops still in Georgia (did you know t...</td>\n",
       "      <td>b'Why Russias response to Georgia was right'</td>\n",
       "      <td>b'Gorbachev accuses U.S. of making a \"serious ...</td>\n",
       "      <td>b'Russia, Georgia, and NATO: Cold War Two'</td>\n",
       "      <td>b'Remember that adorable 62-year-old who led y...</td>\n",
       "      <td>b'War in Georgia: The Israeli connection'</td>\n",
       "      <td>b'All signs point to the US encouraging Georgi...</td>\n",
       "      <td>b'Christopher King argues that the US and NATO...</td>\n",
       "      <td>b'America: The New Mexico?'</td>\n",
       "      <td>b\"BBC NEWS | Asia-Pacific | Extinction 'by man...</td>\n",
       "    </tr>\n",
       "    <tr>\n",
       "      <th>3</th>\n",
       "      <td>2008-08-13</td>\n",
       "      <td>0</td>\n",
       "      <td>b' U.S. refuses Israel weapons to attack Iran:...</td>\n",
       "      <td>b\"When the president ordered to attack Tskhinv...</td>\n",
       "      <td>b' Israel clears troops who killed Reuters cam...</td>\n",
       "      <td>b'Britain\\'s policy of being tough on drugs is...</td>\n",
       "      <td>b'Body of 14 year old found in trunk; Latest (...</td>\n",
       "      <td>b'China has moved 10 *million* quake survivors...</td>\n",
       "      <td>b\"Bush announces Operation Get All Up In Russi...</td>\n",
       "      <td>b'Russian forces sink Georgian ships '</td>\n",
       "      <td>...</td>\n",
       "      <td>b'Elephants extinct by 2020?'</td>\n",
       "      <td>b'US humanitarian missions soon in Georgia - i...</td>\n",
       "      <td>b\"Georgia's DDOS came from US sources\"</td>\n",
       "      <td>b'Russian convoy heads into Georgia, violating...</td>\n",
       "      <td>b'Israeli defence minister: US against strike ...</td>\n",
       "      <td>b'Gorbachev: We Had No Choice'</td>\n",
       "      <td>b'Witness: Russian forces head towards Tbilisi...</td>\n",
       "      <td>b' Quarter of Russians blame U.S. for conflict...</td>\n",
       "      <td>b'Georgian president  says US military will ta...</td>\n",
       "      <td>b'2006: Nobel laureate Aleksander Solzhenitsyn...</td>\n",
       "    </tr>\n",
       "    <tr>\n",
       "      <th>4</th>\n",
       "      <td>2008-08-14</td>\n",
       "      <td>1</td>\n",
       "      <td>b'All the experts admit that we should legalis...</td>\n",
       "      <td>b'War in South Osetia - 89 pictures made by a ...</td>\n",
       "      <td>b'Swedish wrestler Ara Abrahamian throws away ...</td>\n",
       "      <td>b'Russia exaggerated the death toll in South O...</td>\n",
       "      <td>b'Missile That Killed 9 Inside Pakistan May Ha...</td>\n",
       "      <td>b\"Rushdie Condemns Random House's Refusal to P...</td>\n",
       "      <td>b'Poland and US agree to missle defense deal. ...</td>\n",
       "      <td>b'Will the Russians conquer Tblisi? Bet on it,...</td>\n",
       "      <td>...</td>\n",
       "      <td>b'Bank analyst forecast Georgian crisis 2 days...</td>\n",
       "      <td>b\"Georgia confict could set back Russia's US r...</td>\n",
       "      <td>b'War in the Caucasus is as much the product o...</td>\n",
       "      <td>b'\"Non-media\" photos of South Ossetia/Georgia ...</td>\n",
       "      <td>b'Georgian TV reporter shot by Russian sniper ...</td>\n",
       "      <td>b'Saudi Arabia: Mother moves to block child ma...</td>\n",
       "      <td>b'Taliban wages war on humanitarian aid workers'</td>\n",
       "      <td>b'Russia: World  \"can forget about\" Georgia\\'s...</td>\n",
       "      <td>b'Darfur rebels accuse Sudan of mounting major...</td>\n",
       "      <td>b'Philippines : Peace Advocate say Muslims nee...</td>\n",
       "    </tr>\n",
       "  </tbody>\n",
       "</table>\n",
       "<p>5 rows × 27 columns</p>\n",
       "</div>"
      ],
      "text/plain": [
       "         Date  Label                                               Top1  \\\n",
       "0  2008-08-08      0  b\"Georgia 'downs two Russian warplanes' as cou...   \n",
       "1  2008-08-11      1  b'Why wont America and Nato help us? If they w...   \n",
       "2  2008-08-12      0  b'Remember that adorable 9-year-old who sang a...   \n",
       "3  2008-08-13      0  b' U.S. refuses Israel weapons to attack Iran:...   \n",
       "4  2008-08-14      1  b'All the experts admit that we should legalis...   \n",
       "\n",
       "                                                Top2  \\\n",
       "0            b'BREAKING: Musharraf to be impeached.'   \n",
       "1        b'Bush puts foot down on Georgian conflict'   \n",
       "2                 b\"Russia 'ends Georgia operation'\"   \n",
       "3  b\"When the president ordered to attack Tskhinv...   \n",
       "4  b'War in South Osetia - 89 pictures made by a ...   \n",
       "\n",
       "                                                Top3  \\\n",
       "0  b'Russia Today: Columns of troops roll into So...   \n",
       "1  b\"Jewish Georgian minister: Thanks to Israeli ...   \n",
       "2  b'\"If we had no sexual harassment we would hav...   \n",
       "3  b' Israel clears troops who killed Reuters cam...   \n",
       "4  b'Swedish wrestler Ara Abrahamian throws away ...   \n",
       "\n",
       "                                                Top4  \\\n",
       "0  b'Russian tanks are moving towards the capital...   \n",
       "1  b'Georgian army flees in disarray as Russians ...   \n",
       "2  b\"Al-Qa'eda is losing support in Iraq because ...   \n",
       "3  b'Britain\\'s policy of being tough on drugs is...   \n",
       "4  b'Russia exaggerated the death toll in South O...   \n",
       "\n",
       "                                                Top5  \\\n",
       "0  b\"Afghan children raped with 'impunity,' U.N. ...   \n",
       "1      b\"Olympic opening ceremony fireworks 'faked'\"   \n",
       "2  b'Ceasefire in Georgia: Putin Outmaneuvers the...   \n",
       "3  b'Body of 14 year old found in trunk; Latest (...   \n",
       "4  b'Missile That Killed 9 Inside Pakistan May Ha...   \n",
       "\n",
       "                                                Top6  \\\n",
       "0  b'150 Russian tanks have entered South Ossetia...   \n",
       "1  b'What were the Mossad with fraudulent New Zea...   \n",
       "2  b'Why Microsoft and Intel tried to kill the XO...   \n",
       "3  b'China has moved 10 *million* quake survivors...   \n",
       "4  b\"Rushdie Condemns Random House's Refusal to P...   \n",
       "\n",
       "                                                Top7  \\\n",
       "0  b\"Breaking: Georgia invades South Ossetia, Rus...   \n",
       "1  b'Russia angered by Israeli military sale to G...   \n",
       "2  b'Stratfor: The Russo-Georgian War and the Bal...   \n",
       "3  b\"Bush announces Operation Get All Up In Russi...   \n",
       "4  b'Poland and US agree to missle defense deal. ...   \n",
       "\n",
       "                                                Top8  ...  \\\n",
       "0  b\"The 'enemy combatent' trials are nothing but...  ...   \n",
       "1  b'An American citizen living in S.Ossetia blam...  ...   \n",
       "2  b\"I'm Trying to Get a Sense of This Whole Geor...  ...   \n",
       "3             b'Russian forces sink Georgian ships '  ...   \n",
       "4  b'Will the Russians conquer Tblisi? Bet on it,...  ...   \n",
       "\n",
       "                                               Top16  \\\n",
       "0  b'Georgia Invades South Ossetia - if Russia ge...   \n",
       "1  b'Israel and the US behind the Georgian aggres...   \n",
       "2  b'U.S. troops still in Georgia (did you know t...   \n",
       "3                      b'Elephants extinct by 2020?'   \n",
       "4  b'Bank analyst forecast Georgian crisis 2 days...   \n",
       "\n",
       "                                               Top17  \\\n",
       "0                b'Al-Qaeda Faces Islamist Backlash'   \n",
       "1  b'\"Do not believe TV, neither Russian nor Geor...   \n",
       "2       b'Why Russias response to Georgia was right'   \n",
       "3  b'US humanitarian missions soon in Georgia - i...   \n",
       "4  b\"Georgia confict could set back Russia's US r...   \n",
       "\n",
       "                                               Top18  \\\n",
       "0  b'Condoleezza Rice: \"The US would not act to p...   \n",
       "1  b'Riots are still going on in Montreal (Canada...   \n",
       "2  b'Gorbachev accuses U.S. of making a \"serious ...   \n",
       "3             b\"Georgia's DDOS came from US sources\"   \n",
       "4  b'War in the Caucasus is as much the product o...   \n",
       "\n",
       "                                               Top19  \\\n",
       "0  b'This is a busy day:  The European Union has ...   \n",
       "1    b'China to overtake US as largest manufacturer'   \n",
       "2         b'Russia, Georgia, and NATO: Cold War Two'   \n",
       "3  b'Russian convoy heads into Georgia, violating...   \n",
       "4  b'\"Non-media\" photos of South Ossetia/Georgia ...   \n",
       "\n",
       "                                               Top20  \\\n",
       "0  b\"Georgia will withdraw 1,000 soldiers from Ir...   \n",
       "1                     b'War in South Ossetia [PICS]'   \n",
       "2  b'Remember that adorable 62-year-old who led y...   \n",
       "3  b'Israeli defence minister: US against strike ...   \n",
       "4  b'Georgian TV reporter shot by Russian sniper ...   \n",
       "\n",
       "                                               Top21  \\\n",
       "0  b'Why the Pentagon Thinks Attacking Iran is a ...   \n",
       "1  b'Israeli Physicians Group Condemns State Tort...   \n",
       "2          b'War in Georgia: The Israeli connection'   \n",
       "3                     b'Gorbachev: We Had No Choice'   \n",
       "4  b'Saudi Arabia: Mother moves to block child ma...   \n",
       "\n",
       "                                               Top22  \\\n",
       "0  b'Caucasus in crisis: Georgia invades South Os...   \n",
       "1  b' Russia has just beaten the United States ov...   \n",
       "2  b'All signs point to the US encouraging Georgi...   \n",
       "3  b'Witness: Russian forces head towards Tbilisi...   \n",
       "4   b'Taliban wages war on humanitarian aid workers'   \n",
       "\n",
       "                                               Top23  \\\n",
       "0  b'Indian shoe manufactory  - And again in a se...   \n",
       "1  b'Perhaps *the* question about the Georgia - R...   \n",
       "2  b'Christopher King argues that the US and NATO...   \n",
       "3  b' Quarter of Russians blame U.S. for conflict...   \n",
       "4  b'Russia: World  \"can forget about\" Georgia\\'s...   \n",
       "\n",
       "                                               Top24  \\\n",
       "0  b'Visitors Suffering from Mental Illnesses Ban...   \n",
       "1                 b'Russia is so much better at war'   \n",
       "2                        b'America: The New Mexico?'   \n",
       "3  b'Georgian president  says US military will ta...   \n",
       "4  b'Darfur rebels accuse Sudan of mounting major...   \n",
       "\n",
       "                                               Top25  \n",
       "0           b\"No Help for Mexico's Kidnapping Surge\"  \n",
       "1  b\"So this is what it's come to: trading sex fo...  \n",
       "2  b\"BBC NEWS | Asia-Pacific | Extinction 'by man...  \n",
       "3  b'2006: Nobel laureate Aleksander Solzhenitsyn...  \n",
       "4  b'Philippines : Peace Advocate say Muslims nee...  \n",
       "\n",
       "[5 rows x 27 columns]"
      ]
     },
     "execution_count": 3,
     "metadata": {},
     "output_type": "execute_result"
    }
   ],
   "source": [
    "data.head()"
   ]
  },
  {
   "cell_type": "code",
   "execution_count": 4,
   "metadata": {
    "execution": {
     "iopub.execute_input": "2023-09-23T03:39:55.502129Z",
     "iopub.status.busy": "2023-09-23T03:39:55.501789Z",
     "iopub.status.idle": "2023-09-23T03:39:55.516741Z",
     "shell.execute_reply": "2023-09-23T03:39:55.515662Z",
     "shell.execute_reply.started": "2023-09-23T03:39:55.502099Z"
    }
   },
   "outputs": [],
   "source": [
    "data2=pd.read_csv(\"upload_DJIA_table.csv\")"
   ]
  },
  {
   "cell_type": "code",
   "execution_count": 5,
   "metadata": {
    "execution": {
     "iopub.execute_input": "2023-09-23T03:39:55.519212Z",
     "iopub.status.busy": "2023-09-23T03:39:55.518591Z",
     "iopub.status.idle": "2023-09-23T03:39:55.534375Z",
     "shell.execute_reply": "2023-09-23T03:39:55.533158Z",
     "shell.execute_reply.started": "2023-09-23T03:39:55.519175Z"
    }
   },
   "outputs": [
    {
     "data": {
      "text/html": [
       "<div>\n",
       "<style scoped>\n",
       "    .dataframe tbody tr th:only-of-type {\n",
       "        vertical-align: middle;\n",
       "    }\n",
       "\n",
       "    .dataframe tbody tr th {\n",
       "        vertical-align: top;\n",
       "    }\n",
       "\n",
       "    .dataframe thead th {\n",
       "        text-align: right;\n",
       "    }\n",
       "</style>\n",
       "<table border=\"1\" class=\"dataframe\">\n",
       "  <thead>\n",
       "    <tr style=\"text-align: right;\">\n",
       "      <th></th>\n",
       "      <th>Date</th>\n",
       "      <th>Open</th>\n",
       "      <th>High</th>\n",
       "      <th>Low</th>\n",
       "      <th>Close</th>\n",
       "      <th>Volume</th>\n",
       "      <th>Adj Close</th>\n",
       "    </tr>\n",
       "  </thead>\n",
       "  <tbody>\n",
       "    <tr>\n",
       "      <th>0</th>\n",
       "      <td>2016-07-01</td>\n",
       "      <td>17924.240234</td>\n",
       "      <td>18002.380859</td>\n",
       "      <td>17916.910156</td>\n",
       "      <td>17949.369141</td>\n",
       "      <td>82160000</td>\n",
       "      <td>17949.369141</td>\n",
       "    </tr>\n",
       "    <tr>\n",
       "      <th>1</th>\n",
       "      <td>2016-06-30</td>\n",
       "      <td>17712.759766</td>\n",
       "      <td>17930.609375</td>\n",
       "      <td>17711.800781</td>\n",
       "      <td>17929.990234</td>\n",
       "      <td>133030000</td>\n",
       "      <td>17929.990234</td>\n",
       "    </tr>\n",
       "    <tr>\n",
       "      <th>2</th>\n",
       "      <td>2016-06-29</td>\n",
       "      <td>17456.019531</td>\n",
       "      <td>17704.509766</td>\n",
       "      <td>17456.019531</td>\n",
       "      <td>17694.679688</td>\n",
       "      <td>106380000</td>\n",
       "      <td>17694.679688</td>\n",
       "    </tr>\n",
       "    <tr>\n",
       "      <th>3</th>\n",
       "      <td>2016-06-28</td>\n",
       "      <td>17190.509766</td>\n",
       "      <td>17409.720703</td>\n",
       "      <td>17190.509766</td>\n",
       "      <td>17409.720703</td>\n",
       "      <td>112190000</td>\n",
       "      <td>17409.720703</td>\n",
       "    </tr>\n",
       "    <tr>\n",
       "      <th>4</th>\n",
       "      <td>2016-06-27</td>\n",
       "      <td>17355.210938</td>\n",
       "      <td>17355.210938</td>\n",
       "      <td>17063.080078</td>\n",
       "      <td>17140.240234</td>\n",
       "      <td>138740000</td>\n",
       "      <td>17140.240234</td>\n",
       "    </tr>\n",
       "  </tbody>\n",
       "</table>\n",
       "</div>"
      ],
      "text/plain": [
       "         Date          Open          High           Low         Close  \\\n",
       "0  2016-07-01  17924.240234  18002.380859  17916.910156  17949.369141   \n",
       "1  2016-06-30  17712.759766  17930.609375  17711.800781  17929.990234   \n",
       "2  2016-06-29  17456.019531  17704.509766  17456.019531  17694.679688   \n",
       "3  2016-06-28  17190.509766  17409.720703  17190.509766  17409.720703   \n",
       "4  2016-06-27  17355.210938  17355.210938  17063.080078  17140.240234   \n",
       "\n",
       "      Volume     Adj Close  \n",
       "0   82160000  17949.369141  \n",
       "1  133030000  17929.990234  \n",
       "2  106380000  17694.679688  \n",
       "3  112190000  17409.720703  \n",
       "4  138740000  17140.240234  "
      ]
     },
     "execution_count": 5,
     "metadata": {},
     "output_type": "execute_result"
    }
   ],
   "source": [
    "#This contains the market Open,High,Low,Close ,Volume and Adj Close \n",
    "data2.head()"
   ]
  },
  {
   "cell_type": "code",
   "execution_count": 6,
   "metadata": {
    "execution": {
     "iopub.execute_input": "2023-09-23T03:39:55.536979Z",
     "iopub.status.busy": "2023-09-23T03:39:55.536203Z",
     "iopub.status.idle": "2023-09-23T03:39:55.551899Z",
     "shell.execute_reply": "2023-09-23T03:39:55.550692Z",
     "shell.execute_reply.started": "2023-09-23T03:39:55.536910Z"
    }
   },
   "outputs": [],
   "source": [
    "#Combining the data set with the Market price movement \n",
    "merge=data.merge(data2,how=\"inner\",on=\"Date\")"
   ]
  },
  {
   "cell_type": "code",
   "execution_count": 7,
   "metadata": {
    "execution": {
     "iopub.execute_input": "2023-09-23T03:39:55.554293Z",
     "iopub.status.busy": "2023-09-23T03:39:55.553759Z",
     "iopub.status.idle": "2023-09-23T03:39:55.585072Z",
     "shell.execute_reply": "2023-09-23T03:39:55.583906Z",
     "shell.execute_reply.started": "2023-09-23T03:39:55.554252Z"
    }
   },
   "outputs": [
    {
     "data": {
      "text/html": [
       "<div>\n",
       "<style scoped>\n",
       "    .dataframe tbody tr th:only-of-type {\n",
       "        vertical-align: middle;\n",
       "    }\n",
       "\n",
       "    .dataframe tbody tr th {\n",
       "        vertical-align: top;\n",
       "    }\n",
       "\n",
       "    .dataframe thead th {\n",
       "        text-align: right;\n",
       "    }\n",
       "</style>\n",
       "<table border=\"1\" class=\"dataframe\">\n",
       "  <thead>\n",
       "    <tr style=\"text-align: right;\">\n",
       "      <th></th>\n",
       "      <th>Date</th>\n",
       "      <th>Label</th>\n",
       "      <th>Top1</th>\n",
       "      <th>Top2</th>\n",
       "      <th>Top3</th>\n",
       "      <th>Top4</th>\n",
       "      <th>Top5</th>\n",
       "      <th>Top6</th>\n",
       "      <th>Top7</th>\n",
       "      <th>Top8</th>\n",
       "      <th>...</th>\n",
       "      <th>Top22</th>\n",
       "      <th>Top23</th>\n",
       "      <th>Top24</th>\n",
       "      <th>Top25</th>\n",
       "      <th>Open</th>\n",
       "      <th>High</th>\n",
       "      <th>Low</th>\n",
       "      <th>Close</th>\n",
       "      <th>Volume</th>\n",
       "      <th>Adj Close</th>\n",
       "    </tr>\n",
       "  </thead>\n",
       "  <tbody>\n",
       "    <tr>\n",
       "      <th>0</th>\n",
       "      <td>2008-08-08</td>\n",
       "      <td>0</td>\n",
       "      <td>b\"Georgia 'downs two Russian warplanes' as cou...</td>\n",
       "      <td>b'BREAKING: Musharraf to be impeached.'</td>\n",
       "      <td>b'Russia Today: Columns of troops roll into So...</td>\n",
       "      <td>b'Russian tanks are moving towards the capital...</td>\n",
       "      <td>b\"Afghan children raped with 'impunity,' U.N. ...</td>\n",
       "      <td>b'150 Russian tanks have entered South Ossetia...</td>\n",
       "      <td>b\"Breaking: Georgia invades South Ossetia, Rus...</td>\n",
       "      <td>b\"The 'enemy combatent' trials are nothing but...</td>\n",
       "      <td>...</td>\n",
       "      <td>b'Caucasus in crisis: Georgia invades South Os...</td>\n",
       "      <td>b'Indian shoe manufactory  - And again in a se...</td>\n",
       "      <td>b'Visitors Suffering from Mental Illnesses Ban...</td>\n",
       "      <td>b\"No Help for Mexico's Kidnapping Surge\"</td>\n",
       "      <td>11432.089844</td>\n",
       "      <td>11759.959961</td>\n",
       "      <td>11388.040039</td>\n",
       "      <td>11734.320312</td>\n",
       "      <td>212830000</td>\n",
       "      <td>11734.320312</td>\n",
       "    </tr>\n",
       "    <tr>\n",
       "      <th>1</th>\n",
       "      <td>2008-08-11</td>\n",
       "      <td>1</td>\n",
       "      <td>b'Why wont America and Nato help us? If they w...</td>\n",
       "      <td>b'Bush puts foot down on Georgian conflict'</td>\n",
       "      <td>b\"Jewish Georgian minister: Thanks to Israeli ...</td>\n",
       "      <td>b'Georgian army flees in disarray as Russians ...</td>\n",
       "      <td>b\"Olympic opening ceremony fireworks 'faked'\"</td>\n",
       "      <td>b'What were the Mossad with fraudulent New Zea...</td>\n",
       "      <td>b'Russia angered by Israeli military sale to G...</td>\n",
       "      <td>b'An American citizen living in S.Ossetia blam...</td>\n",
       "      <td>...</td>\n",
       "      <td>b' Russia has just beaten the United States ov...</td>\n",
       "      <td>b'Perhaps *the* question about the Georgia - R...</td>\n",
       "      <td>b'Russia is so much better at war'</td>\n",
       "      <td>b\"So this is what it's come to: trading sex fo...</td>\n",
       "      <td>11729.669922</td>\n",
       "      <td>11867.110352</td>\n",
       "      <td>11675.530273</td>\n",
       "      <td>11782.349609</td>\n",
       "      <td>183190000</td>\n",
       "      <td>11782.349609</td>\n",
       "    </tr>\n",
       "    <tr>\n",
       "      <th>2</th>\n",
       "      <td>2008-08-12</td>\n",
       "      <td>0</td>\n",
       "      <td>b'Remember that adorable 9-year-old who sang a...</td>\n",
       "      <td>b\"Russia 'ends Georgia operation'\"</td>\n",
       "      <td>b'\"If we had no sexual harassment we would hav...</td>\n",
       "      <td>b\"Al-Qa'eda is losing support in Iraq because ...</td>\n",
       "      <td>b'Ceasefire in Georgia: Putin Outmaneuvers the...</td>\n",
       "      <td>b'Why Microsoft and Intel tried to kill the XO...</td>\n",
       "      <td>b'Stratfor: The Russo-Georgian War and the Bal...</td>\n",
       "      <td>b\"I'm Trying to Get a Sense of This Whole Geor...</td>\n",
       "      <td>...</td>\n",
       "      <td>b'All signs point to the US encouraging Georgi...</td>\n",
       "      <td>b'Christopher King argues that the US and NATO...</td>\n",
       "      <td>b'America: The New Mexico?'</td>\n",
       "      <td>b\"BBC NEWS | Asia-Pacific | Extinction 'by man...</td>\n",
       "      <td>11781.700195</td>\n",
       "      <td>11782.349609</td>\n",
       "      <td>11601.519531</td>\n",
       "      <td>11642.469727</td>\n",
       "      <td>173590000</td>\n",
       "      <td>11642.469727</td>\n",
       "    </tr>\n",
       "    <tr>\n",
       "      <th>3</th>\n",
       "      <td>2008-08-13</td>\n",
       "      <td>0</td>\n",
       "      <td>b' U.S. refuses Israel weapons to attack Iran:...</td>\n",
       "      <td>b\"When the president ordered to attack Tskhinv...</td>\n",
       "      <td>b' Israel clears troops who killed Reuters cam...</td>\n",
       "      <td>b'Britain\\'s policy of being tough on drugs is...</td>\n",
       "      <td>b'Body of 14 year old found in trunk; Latest (...</td>\n",
       "      <td>b'China has moved 10 *million* quake survivors...</td>\n",
       "      <td>b\"Bush announces Operation Get All Up In Russi...</td>\n",
       "      <td>b'Russian forces sink Georgian ships '</td>\n",
       "      <td>...</td>\n",
       "      <td>b'Witness: Russian forces head towards Tbilisi...</td>\n",
       "      <td>b' Quarter of Russians blame U.S. for conflict...</td>\n",
       "      <td>b'Georgian president  says US military will ta...</td>\n",
       "      <td>b'2006: Nobel laureate Aleksander Solzhenitsyn...</td>\n",
       "      <td>11632.809570</td>\n",
       "      <td>11633.780273</td>\n",
       "      <td>11453.339844</td>\n",
       "      <td>11532.959961</td>\n",
       "      <td>182550000</td>\n",
       "      <td>11532.959961</td>\n",
       "    </tr>\n",
       "    <tr>\n",
       "      <th>4</th>\n",
       "      <td>2008-08-14</td>\n",
       "      <td>1</td>\n",
       "      <td>b'All the experts admit that we should legalis...</td>\n",
       "      <td>b'War in South Osetia - 89 pictures made by a ...</td>\n",
       "      <td>b'Swedish wrestler Ara Abrahamian throws away ...</td>\n",
       "      <td>b'Russia exaggerated the death toll in South O...</td>\n",
       "      <td>b'Missile That Killed 9 Inside Pakistan May Ha...</td>\n",
       "      <td>b\"Rushdie Condemns Random House's Refusal to P...</td>\n",
       "      <td>b'Poland and US agree to missle defense deal. ...</td>\n",
       "      <td>b'Will the Russians conquer Tblisi? Bet on it,...</td>\n",
       "      <td>...</td>\n",
       "      <td>b'Taliban wages war on humanitarian aid workers'</td>\n",
       "      <td>b'Russia: World  \"can forget about\" Georgia\\'s...</td>\n",
       "      <td>b'Darfur rebels accuse Sudan of mounting major...</td>\n",
       "      <td>b'Philippines : Peace Advocate say Muslims nee...</td>\n",
       "      <td>11532.070312</td>\n",
       "      <td>11718.280273</td>\n",
       "      <td>11450.889648</td>\n",
       "      <td>11615.929688</td>\n",
       "      <td>159790000</td>\n",
       "      <td>11615.929688</td>\n",
       "    </tr>\n",
       "  </tbody>\n",
       "</table>\n",
       "<p>5 rows × 33 columns</p>\n",
       "</div>"
      ],
      "text/plain": [
       "         Date  Label                                               Top1  \\\n",
       "0  2008-08-08      0  b\"Georgia 'downs two Russian warplanes' as cou...   \n",
       "1  2008-08-11      1  b'Why wont America and Nato help us? If they w...   \n",
       "2  2008-08-12      0  b'Remember that adorable 9-year-old who sang a...   \n",
       "3  2008-08-13      0  b' U.S. refuses Israel weapons to attack Iran:...   \n",
       "4  2008-08-14      1  b'All the experts admit that we should legalis...   \n",
       "\n",
       "                                                Top2  \\\n",
       "0            b'BREAKING: Musharraf to be impeached.'   \n",
       "1        b'Bush puts foot down on Georgian conflict'   \n",
       "2                 b\"Russia 'ends Georgia operation'\"   \n",
       "3  b\"When the president ordered to attack Tskhinv...   \n",
       "4  b'War in South Osetia - 89 pictures made by a ...   \n",
       "\n",
       "                                                Top3  \\\n",
       "0  b'Russia Today: Columns of troops roll into So...   \n",
       "1  b\"Jewish Georgian minister: Thanks to Israeli ...   \n",
       "2  b'\"If we had no sexual harassment we would hav...   \n",
       "3  b' Israel clears troops who killed Reuters cam...   \n",
       "4  b'Swedish wrestler Ara Abrahamian throws away ...   \n",
       "\n",
       "                                                Top4  \\\n",
       "0  b'Russian tanks are moving towards the capital...   \n",
       "1  b'Georgian army flees in disarray as Russians ...   \n",
       "2  b\"Al-Qa'eda is losing support in Iraq because ...   \n",
       "3  b'Britain\\'s policy of being tough on drugs is...   \n",
       "4  b'Russia exaggerated the death toll in South O...   \n",
       "\n",
       "                                                Top5  \\\n",
       "0  b\"Afghan children raped with 'impunity,' U.N. ...   \n",
       "1      b\"Olympic opening ceremony fireworks 'faked'\"   \n",
       "2  b'Ceasefire in Georgia: Putin Outmaneuvers the...   \n",
       "3  b'Body of 14 year old found in trunk; Latest (...   \n",
       "4  b'Missile That Killed 9 Inside Pakistan May Ha...   \n",
       "\n",
       "                                                Top6  \\\n",
       "0  b'150 Russian tanks have entered South Ossetia...   \n",
       "1  b'What were the Mossad with fraudulent New Zea...   \n",
       "2  b'Why Microsoft and Intel tried to kill the XO...   \n",
       "3  b'China has moved 10 *million* quake survivors...   \n",
       "4  b\"Rushdie Condemns Random House's Refusal to P...   \n",
       "\n",
       "                                                Top7  \\\n",
       "0  b\"Breaking: Georgia invades South Ossetia, Rus...   \n",
       "1  b'Russia angered by Israeli military sale to G...   \n",
       "2  b'Stratfor: The Russo-Georgian War and the Bal...   \n",
       "3  b\"Bush announces Operation Get All Up In Russi...   \n",
       "4  b'Poland and US agree to missle defense deal. ...   \n",
       "\n",
       "                                                Top8  ...  \\\n",
       "0  b\"The 'enemy combatent' trials are nothing but...  ...   \n",
       "1  b'An American citizen living in S.Ossetia blam...  ...   \n",
       "2  b\"I'm Trying to Get a Sense of This Whole Geor...  ...   \n",
       "3             b'Russian forces sink Georgian ships '  ...   \n",
       "4  b'Will the Russians conquer Tblisi? Bet on it,...  ...   \n",
       "\n",
       "                                               Top22  \\\n",
       "0  b'Caucasus in crisis: Georgia invades South Os...   \n",
       "1  b' Russia has just beaten the United States ov...   \n",
       "2  b'All signs point to the US encouraging Georgi...   \n",
       "3  b'Witness: Russian forces head towards Tbilisi...   \n",
       "4   b'Taliban wages war on humanitarian aid workers'   \n",
       "\n",
       "                                               Top23  \\\n",
       "0  b'Indian shoe manufactory  - And again in a se...   \n",
       "1  b'Perhaps *the* question about the Georgia - R...   \n",
       "2  b'Christopher King argues that the US and NATO...   \n",
       "3  b' Quarter of Russians blame U.S. for conflict...   \n",
       "4  b'Russia: World  \"can forget about\" Georgia\\'s...   \n",
       "\n",
       "                                               Top24  \\\n",
       "0  b'Visitors Suffering from Mental Illnesses Ban...   \n",
       "1                 b'Russia is so much better at war'   \n",
       "2                        b'America: The New Mexico?'   \n",
       "3  b'Georgian president  says US military will ta...   \n",
       "4  b'Darfur rebels accuse Sudan of mounting major...   \n",
       "\n",
       "                                               Top25          Open  \\\n",
       "0           b\"No Help for Mexico's Kidnapping Surge\"  11432.089844   \n",
       "1  b\"So this is what it's come to: trading sex fo...  11729.669922   \n",
       "2  b\"BBC NEWS | Asia-Pacific | Extinction 'by man...  11781.700195   \n",
       "3  b'2006: Nobel laureate Aleksander Solzhenitsyn...  11632.809570   \n",
       "4  b'Philippines : Peace Advocate say Muslims nee...  11532.070312   \n",
       "\n",
       "           High           Low         Close     Volume     Adj Close  \n",
       "0  11759.959961  11388.040039  11734.320312  212830000  11734.320312  \n",
       "1  11867.110352  11675.530273  11782.349609  183190000  11782.349609  \n",
       "2  11782.349609  11601.519531  11642.469727  173590000  11642.469727  \n",
       "3  11633.780273  11453.339844  11532.959961  182550000  11532.959961  \n",
       "4  11718.280273  11450.889648  11615.929688  159790000  11615.929688  \n",
       "\n",
       "[5 rows x 33 columns]"
      ]
     },
     "execution_count": 7,
     "metadata": {},
     "output_type": "execute_result"
    }
   ],
   "source": [
    "merge.head()"
   ]
  },
  {
   "cell_type": "code",
   "execution_count": 8,
   "metadata": {
    "execution": {
     "iopub.execute_input": "2023-09-23T03:39:55.587663Z",
     "iopub.status.busy": "2023-09-23T03:39:55.586880Z",
     "iopub.status.idle": "2023-09-23T03:39:55.592532Z",
     "shell.execute_reply": "2023-09-23T03:39:55.591270Z",
     "shell.execute_reply.started": "2023-09-23T03:39:55.587619Z"
    }
   },
   "outputs": [
    {
     "name": "stderr",
     "output_type": "stream",
     "text": [
      "C:\\Users\\shivs\\anaconda3\\Lib\\site-packages\\numba\\core\\decorators.py:262: NumbaDeprecationWarning: \u001b[1mnumba.generated_jit is deprecated. Please see the documentation at: https://numba.readthedocs.io/en/stable/reference/deprecation.html#deprecation-of-generated-jit for more information and advice on a suitable replacement.\u001b[0m\n",
      "  warnings.warn(msg, NumbaDeprecationWarning)\n",
      "C:\\Users\\shivs\\anaconda3\\Lib\\site-packages\\visions\\backends\\shared\\nan_handling.py:50: NumbaDeprecationWarning: \u001b[1mThe 'nopython' keyword argument was not supplied to the 'numba.jit' decorator. The implicit default value for this argument is currently False, but it will be changed to True in Numba 0.59.0. See https://numba.readthedocs.io/en/stable/reference/deprecation.html#deprecation-of-object-mode-fall-back-behaviour-when-using-jit for details.\u001b[0m\n",
      "  @nb.jit\n"
     ]
    }
   ],
   "source": [
    "import ydata_profiling"
   ]
  },
  {
   "cell_type": "code",
   "execution_count": 9,
   "metadata": {
    "execution": {
     "iopub.execute_input": "2023-09-23T03:39:55.610679Z",
     "iopub.status.busy": "2023-09-23T03:39:55.609899Z",
     "iopub.status.idle": "2023-09-23T03:39:56.007436Z",
     "shell.execute_reply": "2023-09-23T03:39:56.006320Z",
     "shell.execute_reply.started": "2023-09-23T03:39:55.610613Z"
    }
   },
   "outputs": [],
   "source": [
    "headline=[]\n",
    "for row in range(0,len(merge.index)):\n",
    "    headline.append(\" \".join(str(x) for x in merge.iloc[row,2:27]))"
   ]
  },
  {
   "cell_type": "code",
   "execution_count": 10,
   "metadata": {
    "execution": {
     "iopub.execute_input": "2023-09-23T03:39:56.009327Z",
     "iopub.status.busy": "2023-09-23T03:39:56.008966Z",
     "iopub.status.idle": "2023-09-23T03:39:56.016466Z",
     "shell.execute_reply": "2023-09-23T03:39:56.015483Z",
     "shell.execute_reply.started": "2023-09-23T03:39:56.009291Z"
    }
   },
   "outputs": [
    {
     "data": {
      "text/plain": [
       "'b\\'Why wont America and Nato help us? If they wont help us now, why did we help them in Iraq?\\' b\\'Bush puts foot down on Georgian conflict\\' b\"Jewish Georgian minister: Thanks to Israeli training, we\\'re fending off Russia \" b\\'Georgian army flees in disarray as Russians advance - Gori abandoned to Russia without a shot fired\\' b\"Olympic opening ceremony fireworks \\'faked\\'\" b\\'What were the Mossad with fraudulent New Zealand Passports doing in Iraq?\\' b\\'Russia angered by Israeli military sale to Georgia\\' b\\'An American citizen living in S.Ossetia blames U.S. and Georgian leaders for the genocide of innocent people\\' b\\'Welcome To World War IV! Now In High Definition!\\' b\"Georgia\\'s move, a mistake of monumental proportions \" b\\'Russia presses deeper into Georgia; U.S. says regime change is goal\\' b\\'Abhinav Bindra wins first ever Individual Olympic Gold Medal for India\\' b\\' U.S. ship heads for Arctic to define territory\\' b\\'Drivers in a Jerusalem taxi station threaten to quit rather than work for their new boss - an Arab\\' b\\'The French Team is Stunned by Phelps and the 4x100m Relay Team\\' b\\'Israel and the US behind the Georgian aggression?\\' b\\'\"Do not believe TV, neither Russian nor Georgian. There are much more victims\"\\' b\\'Riots are still going on in Montreal (Canada) because police murdered a boy on Saturday.\\' b\\'China to overtake US as largest manufacturer\\' b\\'War in South Ossetia [PICS]\\' b\\'Israeli Physicians Group Condemns State Torture\\' b\\' Russia has just beaten the United States over the head with Peak Oil\\' b\\'Perhaps *the* question about the Georgia - Russia conflict \\' b\\'Russia is so much better at war\\' b\"So this is what it\\'s come to: trading sex for food.\"'"
      ]
     },
     "execution_count": 10,
     "metadata": {},
     "output_type": "execute_result"
    }
   ],
   "source": [
    "headline[1]"
   ]
  },
  {
   "cell_type": "markdown",
   "metadata": {},
   "source": [
    "re.sub(pattern, repl, string, count=0, flags=0)\n",
    "\n",
    "The re.sub() function stands for a substring and returns a string with replaced values. Multiple elements can be replaced using a list when we use this function."
   ]
  },
  {
   "cell_type": "code",
   "execution_count": 11,
   "metadata": {
    "execution": {
     "iopub.execute_input": "2023-09-23T03:39:56.019241Z",
     "iopub.status.busy": "2023-09-23T03:39:56.018074Z",
     "iopub.status.idle": "2023-09-23T03:39:56.063624Z",
     "shell.execute_reply": "2023-09-23T03:39:56.062576Z",
     "shell.execute_reply.started": "2023-09-23T03:39:56.019206Z"
    }
   },
   "outputs": [],
   "source": [
    "clean_headline=[]\n",
    "for i in range(0,len(headline)):\n",
    "    clean_headline.append(re.sub(\"b[(')]\",'',headline[i])) #remove b'\n",
    "    clean_headline[i]=re.sub('b[(\")]','',clean_headline[i]) #remove b\"\n",
    "    clean_headline[i]=re.sub(\"\\'\",'',clean_headline[i]) #remove \\'"
   ]
  },
  {
   "cell_type": "markdown",
   "metadata": {},
   "source": [
    "Adding the combined and cleaned news back to the merge table"
   ]
  },
  {
   "cell_type": "code",
   "execution_count": 12,
   "metadata": {
    "execution": {
     "iopub.execute_input": "2023-09-23T03:39:56.065326Z",
     "iopub.status.busy": "2023-09-23T03:39:56.064945Z",
     "iopub.status.idle": "2023-09-23T03:39:56.071091Z",
     "shell.execute_reply": "2023-09-23T03:39:56.069900Z",
     "shell.execute_reply.started": "2023-09-23T03:39:56.065292Z"
    }
   },
   "outputs": [],
   "source": [
    "merge['Combined_News'] = clean_headline"
   ]
  },
  {
   "cell_type": "code",
   "execution_count": 13,
   "metadata": {
    "execution": {
     "iopub.execute_input": "2023-09-23T03:39:56.073840Z",
     "iopub.status.busy": "2023-09-23T03:39:56.072730Z",
     "iopub.status.idle": "2023-09-23T03:39:56.105863Z",
     "shell.execute_reply": "2023-09-23T03:39:56.104603Z",
     "shell.execute_reply.started": "2023-09-23T03:39:56.073803Z"
    }
   },
   "outputs": [
    {
     "data": {
      "text/html": [
       "<div>\n",
       "<style scoped>\n",
       "    .dataframe tbody tr th:only-of-type {\n",
       "        vertical-align: middle;\n",
       "    }\n",
       "\n",
       "    .dataframe tbody tr th {\n",
       "        vertical-align: top;\n",
       "    }\n",
       "\n",
       "    .dataframe thead th {\n",
       "        text-align: right;\n",
       "    }\n",
       "</style>\n",
       "<table border=\"1\" class=\"dataframe\">\n",
       "  <thead>\n",
       "    <tr style=\"text-align: right;\">\n",
       "      <th></th>\n",
       "      <th>Date</th>\n",
       "      <th>Label</th>\n",
       "      <th>Top1</th>\n",
       "      <th>Top2</th>\n",
       "      <th>Top3</th>\n",
       "      <th>Top4</th>\n",
       "      <th>Top5</th>\n",
       "      <th>Top6</th>\n",
       "      <th>Top7</th>\n",
       "      <th>Top8</th>\n",
       "      <th>...</th>\n",
       "      <th>Top23</th>\n",
       "      <th>Top24</th>\n",
       "      <th>Top25</th>\n",
       "      <th>Open</th>\n",
       "      <th>High</th>\n",
       "      <th>Low</th>\n",
       "      <th>Close</th>\n",
       "      <th>Volume</th>\n",
       "      <th>Adj Close</th>\n",
       "      <th>Combined_News</th>\n",
       "    </tr>\n",
       "  </thead>\n",
       "  <tbody>\n",
       "    <tr>\n",
       "      <th>0</th>\n",
       "      <td>2008-08-08</td>\n",
       "      <td>0</td>\n",
       "      <td>b\"Georgia 'downs two Russian warplanes' as cou...</td>\n",
       "      <td>b'BREAKING: Musharraf to be impeached.'</td>\n",
       "      <td>b'Russia Today: Columns of troops roll into So...</td>\n",
       "      <td>b'Russian tanks are moving towards the capital...</td>\n",
       "      <td>b\"Afghan children raped with 'impunity,' U.N. ...</td>\n",
       "      <td>b'150 Russian tanks have entered South Ossetia...</td>\n",
       "      <td>b\"Breaking: Georgia invades South Ossetia, Rus...</td>\n",
       "      <td>b\"The 'enemy combatent' trials are nothing but...</td>\n",
       "      <td>...</td>\n",
       "      <td>b'Indian shoe manufactory  - And again in a se...</td>\n",
       "      <td>b'Visitors Suffering from Mental Illnesses Ban...</td>\n",
       "      <td>b\"No Help for Mexico's Kidnapping Surge\"</td>\n",
       "      <td>11432.089844</td>\n",
       "      <td>11759.959961</td>\n",
       "      <td>11388.040039</td>\n",
       "      <td>11734.320312</td>\n",
       "      <td>212830000</td>\n",
       "      <td>11734.320312</td>\n",
       "      <td>Georgia downs two Russian warplanes as countri...</td>\n",
       "    </tr>\n",
       "    <tr>\n",
       "      <th>1</th>\n",
       "      <td>2008-08-11</td>\n",
       "      <td>1</td>\n",
       "      <td>b'Why wont America and Nato help us? If they w...</td>\n",
       "      <td>b'Bush puts foot down on Georgian conflict'</td>\n",
       "      <td>b\"Jewish Georgian minister: Thanks to Israeli ...</td>\n",
       "      <td>b'Georgian army flees in disarray as Russians ...</td>\n",
       "      <td>b\"Olympic opening ceremony fireworks 'faked'\"</td>\n",
       "      <td>b'What were the Mossad with fraudulent New Zea...</td>\n",
       "      <td>b'Russia angered by Israeli military sale to G...</td>\n",
       "      <td>b'An American citizen living in S.Ossetia blam...</td>\n",
       "      <td>...</td>\n",
       "      <td>b'Perhaps *the* question about the Georgia - R...</td>\n",
       "      <td>b'Russia is so much better at war'</td>\n",
       "      <td>b\"So this is what it's come to: trading sex fo...</td>\n",
       "      <td>11729.669922</td>\n",
       "      <td>11867.110352</td>\n",
       "      <td>11675.530273</td>\n",
       "      <td>11782.349609</td>\n",
       "      <td>183190000</td>\n",
       "      <td>11782.349609</td>\n",
       "      <td>Why wont America and Nato help us? If they won...</td>\n",
       "    </tr>\n",
       "    <tr>\n",
       "      <th>2</th>\n",
       "      <td>2008-08-12</td>\n",
       "      <td>0</td>\n",
       "      <td>b'Remember that adorable 9-year-old who sang a...</td>\n",
       "      <td>b\"Russia 'ends Georgia operation'\"</td>\n",
       "      <td>b'\"If we had no sexual harassment we would hav...</td>\n",
       "      <td>b\"Al-Qa'eda is losing support in Iraq because ...</td>\n",
       "      <td>b'Ceasefire in Georgia: Putin Outmaneuvers the...</td>\n",
       "      <td>b'Why Microsoft and Intel tried to kill the XO...</td>\n",
       "      <td>b'Stratfor: The Russo-Georgian War and the Bal...</td>\n",
       "      <td>b\"I'm Trying to Get a Sense of This Whole Geor...</td>\n",
       "      <td>...</td>\n",
       "      <td>b'Christopher King argues that the US and NATO...</td>\n",
       "      <td>b'America: The New Mexico?'</td>\n",
       "      <td>b\"BBC NEWS | Asia-Pacific | Extinction 'by man...</td>\n",
       "      <td>11781.700195</td>\n",
       "      <td>11782.349609</td>\n",
       "      <td>11601.519531</td>\n",
       "      <td>11642.469727</td>\n",
       "      <td>173590000</td>\n",
       "      <td>11642.469727</td>\n",
       "      <td>Remember that adorable 9-year-old who sang at ...</td>\n",
       "    </tr>\n",
       "    <tr>\n",
       "      <th>3</th>\n",
       "      <td>2008-08-13</td>\n",
       "      <td>0</td>\n",
       "      <td>b' U.S. refuses Israel weapons to attack Iran:...</td>\n",
       "      <td>b\"When the president ordered to attack Tskhinv...</td>\n",
       "      <td>b' Israel clears troops who killed Reuters cam...</td>\n",
       "      <td>b'Britain\\'s policy of being tough on drugs is...</td>\n",
       "      <td>b'Body of 14 year old found in trunk; Latest (...</td>\n",
       "      <td>b'China has moved 10 *million* quake survivors...</td>\n",
       "      <td>b\"Bush announces Operation Get All Up In Russi...</td>\n",
       "      <td>b'Russian forces sink Georgian ships '</td>\n",
       "      <td>...</td>\n",
       "      <td>b' Quarter of Russians blame U.S. for conflict...</td>\n",
       "      <td>b'Georgian president  says US military will ta...</td>\n",
       "      <td>b'2006: Nobel laureate Aleksander Solzhenitsyn...</td>\n",
       "      <td>11632.809570</td>\n",
       "      <td>11633.780273</td>\n",
       "      <td>11453.339844</td>\n",
       "      <td>11532.959961</td>\n",
       "      <td>182550000</td>\n",
       "      <td>11532.959961</td>\n",
       "      <td>U.S. refuses Israel weapons to attack Iran: r...</td>\n",
       "    </tr>\n",
       "    <tr>\n",
       "      <th>4</th>\n",
       "      <td>2008-08-14</td>\n",
       "      <td>1</td>\n",
       "      <td>b'All the experts admit that we should legalis...</td>\n",
       "      <td>b'War in South Osetia - 89 pictures made by a ...</td>\n",
       "      <td>b'Swedish wrestler Ara Abrahamian throws away ...</td>\n",
       "      <td>b'Russia exaggerated the death toll in South O...</td>\n",
       "      <td>b'Missile That Killed 9 Inside Pakistan May Ha...</td>\n",
       "      <td>b\"Rushdie Condemns Random House's Refusal to P...</td>\n",
       "      <td>b'Poland and US agree to missle defense deal. ...</td>\n",
       "      <td>b'Will the Russians conquer Tblisi? Bet on it,...</td>\n",
       "      <td>...</td>\n",
       "      <td>b'Russia: World  \"can forget about\" Georgia\\'s...</td>\n",
       "      <td>b'Darfur rebels accuse Sudan of mounting major...</td>\n",
       "      <td>b'Philippines : Peace Advocate say Muslims nee...</td>\n",
       "      <td>11532.070312</td>\n",
       "      <td>11718.280273</td>\n",
       "      <td>11450.889648</td>\n",
       "      <td>11615.929688</td>\n",
       "      <td>159790000</td>\n",
       "      <td>11615.929688</td>\n",
       "      <td>All the experts admit that we should legalise ...</td>\n",
       "    </tr>\n",
       "  </tbody>\n",
       "</table>\n",
       "<p>5 rows × 34 columns</p>\n",
       "</div>"
      ],
      "text/plain": [
       "         Date  Label                                               Top1  \\\n",
       "0  2008-08-08      0  b\"Georgia 'downs two Russian warplanes' as cou...   \n",
       "1  2008-08-11      1  b'Why wont America and Nato help us? If they w...   \n",
       "2  2008-08-12      0  b'Remember that adorable 9-year-old who sang a...   \n",
       "3  2008-08-13      0  b' U.S. refuses Israel weapons to attack Iran:...   \n",
       "4  2008-08-14      1  b'All the experts admit that we should legalis...   \n",
       "\n",
       "                                                Top2  \\\n",
       "0            b'BREAKING: Musharraf to be impeached.'   \n",
       "1        b'Bush puts foot down on Georgian conflict'   \n",
       "2                 b\"Russia 'ends Georgia operation'\"   \n",
       "3  b\"When the president ordered to attack Tskhinv...   \n",
       "4  b'War in South Osetia - 89 pictures made by a ...   \n",
       "\n",
       "                                                Top3  \\\n",
       "0  b'Russia Today: Columns of troops roll into So...   \n",
       "1  b\"Jewish Georgian minister: Thanks to Israeli ...   \n",
       "2  b'\"If we had no sexual harassment we would hav...   \n",
       "3  b' Israel clears troops who killed Reuters cam...   \n",
       "4  b'Swedish wrestler Ara Abrahamian throws away ...   \n",
       "\n",
       "                                                Top4  \\\n",
       "0  b'Russian tanks are moving towards the capital...   \n",
       "1  b'Georgian army flees in disarray as Russians ...   \n",
       "2  b\"Al-Qa'eda is losing support in Iraq because ...   \n",
       "3  b'Britain\\'s policy of being tough on drugs is...   \n",
       "4  b'Russia exaggerated the death toll in South O...   \n",
       "\n",
       "                                                Top5  \\\n",
       "0  b\"Afghan children raped with 'impunity,' U.N. ...   \n",
       "1      b\"Olympic opening ceremony fireworks 'faked'\"   \n",
       "2  b'Ceasefire in Georgia: Putin Outmaneuvers the...   \n",
       "3  b'Body of 14 year old found in trunk; Latest (...   \n",
       "4  b'Missile That Killed 9 Inside Pakistan May Ha...   \n",
       "\n",
       "                                                Top6  \\\n",
       "0  b'150 Russian tanks have entered South Ossetia...   \n",
       "1  b'What were the Mossad with fraudulent New Zea...   \n",
       "2  b'Why Microsoft and Intel tried to kill the XO...   \n",
       "3  b'China has moved 10 *million* quake survivors...   \n",
       "4  b\"Rushdie Condemns Random House's Refusal to P...   \n",
       "\n",
       "                                                Top7  \\\n",
       "0  b\"Breaking: Georgia invades South Ossetia, Rus...   \n",
       "1  b'Russia angered by Israeli military sale to G...   \n",
       "2  b'Stratfor: The Russo-Georgian War and the Bal...   \n",
       "3  b\"Bush announces Operation Get All Up In Russi...   \n",
       "4  b'Poland and US agree to missle defense deal. ...   \n",
       "\n",
       "                                                Top8  ...  \\\n",
       "0  b\"The 'enemy combatent' trials are nothing but...  ...   \n",
       "1  b'An American citizen living in S.Ossetia blam...  ...   \n",
       "2  b\"I'm Trying to Get a Sense of This Whole Geor...  ...   \n",
       "3             b'Russian forces sink Georgian ships '  ...   \n",
       "4  b'Will the Russians conquer Tblisi? Bet on it,...  ...   \n",
       "\n",
       "                                               Top23  \\\n",
       "0  b'Indian shoe manufactory  - And again in a se...   \n",
       "1  b'Perhaps *the* question about the Georgia - R...   \n",
       "2  b'Christopher King argues that the US and NATO...   \n",
       "3  b' Quarter of Russians blame U.S. for conflict...   \n",
       "4  b'Russia: World  \"can forget about\" Georgia\\'s...   \n",
       "\n",
       "                                               Top24  \\\n",
       "0  b'Visitors Suffering from Mental Illnesses Ban...   \n",
       "1                 b'Russia is so much better at war'   \n",
       "2                        b'America: The New Mexico?'   \n",
       "3  b'Georgian president  says US military will ta...   \n",
       "4  b'Darfur rebels accuse Sudan of mounting major...   \n",
       "\n",
       "                                               Top25          Open  \\\n",
       "0           b\"No Help for Mexico's Kidnapping Surge\"  11432.089844   \n",
       "1  b\"So this is what it's come to: trading sex fo...  11729.669922   \n",
       "2  b\"BBC NEWS | Asia-Pacific | Extinction 'by man...  11781.700195   \n",
       "3  b'2006: Nobel laureate Aleksander Solzhenitsyn...  11632.809570   \n",
       "4  b'Philippines : Peace Advocate say Muslims nee...  11532.070312   \n",
       "\n",
       "           High           Low         Close     Volume     Adj Close  \\\n",
       "0  11759.959961  11388.040039  11734.320312  212830000  11734.320312   \n",
       "1  11867.110352  11675.530273  11782.349609  183190000  11782.349609   \n",
       "2  11782.349609  11601.519531  11642.469727  173590000  11642.469727   \n",
       "3  11633.780273  11453.339844  11532.959961  182550000  11532.959961   \n",
       "4  11718.280273  11450.889648  11615.929688  159790000  11615.929688   \n",
       "\n",
       "                                       Combined_News  \n",
       "0  Georgia downs two Russian warplanes as countri...  \n",
       "1  Why wont America and Nato help us? If they won...  \n",
       "2  Remember that adorable 9-year-old who sang at ...  \n",
       "3   U.S. refuses Israel weapons to attack Iran: r...  \n",
       "4  All the experts admit that we should legalise ...  \n",
       "\n",
       "[5 rows x 34 columns]"
      ]
     },
     "execution_count": 13,
     "metadata": {},
     "output_type": "execute_result"
    }
   ],
   "source": [
    "merge.head()"
   ]
  },
  {
   "cell_type": "code",
   "execution_count": 14,
   "metadata": {
    "execution": {
     "iopub.execute_input": "2023-09-23T03:39:56.108425Z",
     "iopub.status.busy": "2023-09-23T03:39:56.107562Z",
     "iopub.status.idle": "2023-09-23T03:39:56.113388Z",
     "shell.execute_reply": "2023-09-23T03:39:56.112083Z",
     "shell.execute_reply.started": "2023-09-23T03:39:56.108385Z"
    }
   },
   "outputs": [],
   "source": [
    "#Alternative approach more traditional NLP approach "
   ]
  },
  {
   "cell_type": "code",
   "execution_count": 15,
   "metadata": {
    "execution": {
     "iopub.execute_input": "2023-09-23T03:39:56.115767Z",
     "iopub.status.busy": "2023-09-23T03:39:56.115227Z",
     "iopub.status.idle": "2023-09-23T03:39:56.126407Z",
     "shell.execute_reply": "2023-09-23T03:39:56.125208Z",
     "shell.execute_reply.started": "2023-09-23T03:39:56.115730Z"
    }
   },
   "outputs": [],
   "source": [
    "samples = list(merge['Combined_News'][:5].values) "
   ]
  },
  {
   "cell_type": "code",
   "execution_count": 16,
   "metadata": {
    "execution": {
     "iopub.execute_input": "2023-09-23T03:39:56.131296Z",
     "iopub.status.busy": "2023-09-23T03:39:56.130293Z",
     "iopub.status.idle": "2023-09-23T03:39:56.138962Z",
     "shell.execute_reply": "2023-09-23T03:39:56.137839Z",
     "shell.execute_reply.started": "2023-09-23T03:39:56.131257Z"
    }
   },
   "outputs": [],
   "source": [
    "import tensorflow as tf\n",
    "from tensorflow import keras\n",
    "from keras.callbacks import ModelCheckpoint\n",
    "from keras.preprocessing.text import Tokenizer\n",
    "from sklearn.model_selection import train_test_split, cross_val_score\n",
    "from tensorflow.keras.preprocessing.sequence import pad_sequences\n",
    "from tensorflow.keras.utils import to_categorical\n",
    "from sklearn.preprocessing import LabelEncoder"
   ]
  },
  {
   "cell_type": "code",
   "execution_count": 17,
   "metadata": {
    "execution": {
     "iopub.execute_input": "2023-09-23T03:39:56.141107Z",
     "iopub.status.busy": "2023-09-23T03:39:56.140699Z",
     "iopub.status.idle": "2023-09-23T03:39:56.151944Z",
     "shell.execute_reply": "2023-09-23T03:39:56.150728Z",
     "shell.execute_reply.started": "2023-09-23T03:39:56.141071Z"
    }
   },
   "outputs": [],
   "source": [
    "token_index = {}  # builds an index of tokens in the data\n",
    "for sample in samples:\n",
    "    for word in sample.split():\n",
    "        if word not in token_index:\n",
    "            token_index[word] = len(token_index) + 1"
   ]
  },
  {
   "cell_type": "code",
   "execution_count": 18,
   "metadata": {
    "execution": {
     "iopub.execute_input": "2023-09-23T03:39:56.154573Z",
     "iopub.status.busy": "2023-09-23T03:39:56.153891Z",
     "iopub.status.idle": "2023-09-23T03:39:56.162675Z",
     "shell.execute_reply": "2023-09-23T03:39:56.161827Z",
     "shell.execute_reply.started": "2023-09-23T03:39:56.154520Z"
    }
   },
   "outputs": [],
   "source": [
    "max_length = 15\n",
    "\n",
    "results = np.zeros(shape=(len(samples),   # results will be stored in this array\n",
    "                          max_length,\n",
    "                          max(token_index.values()) +1)) "
   ]
  },
  {
   "cell_type": "code",
   "execution_count": 19,
   "metadata": {
    "execution": {
     "iopub.execute_input": "2023-09-23T03:39:56.164939Z",
     "iopub.status.busy": "2023-09-23T03:39:56.164278Z",
     "iopub.status.idle": "2023-09-23T03:39:56.176047Z",
     "shell.execute_reply": "2023-09-23T03:39:56.174846Z",
     "shell.execute_reply.started": "2023-09-23T03:39:56.164901Z"
    }
   },
   "outputs": [
    {
     "name": "stdout",
     "output_type": "stream",
     "text": [
      "Shape of stored results array: (5, 15, 888)\n",
      "Token index of unique words: \n",
      " {'Georgia': 1, 'downs': 2, 'two': 3, 'Russian': 4, 'warplanes': 5, 'as': 6, 'countries': 7, 'move': 8, 'to': 9, 'brink': 10, 'of': 11, 'war\"': 12, 'BREAKING:': 13, 'Musharraf': 14, 'be': 15, 'impeached.': 16, 'Russia': 17, 'Today:': 18, 'Columns': 19, 'troops': 20, 'roll': 21, 'into': 22, 'South': 23, 'Ossetia;': 24, 'footage': 25, 'from': 26, 'fighting': 27, '(YouTube)': 28, 'tanks': 29, 'are': 30, 'moving': 31, 'towards': 32, 'the': 33, 'capital': 34, 'Ossetia,': 35, 'which': 36, 'has': 37, 'reportedly': 38, 'been': 39, 'completely': 40, 'destroyed': 41, 'by': 42, 'Georgian': 43, 'artillery': 44, 'fire': 45, 'Afghan': 46, 'children': 47, 'raped': 48, 'with': 49, 'impunity,': 50, 'U.N.': 51, 'official': 52, 'says': 53, '-': 54, 'this': 55, 'is': 56, 'sick,': 57, 'a': 58, 'three': 59, 'year': 60, 'old': 61, 'was': 62, 'and': 63, 'they': 64, 'do': 65, 'nothing\"': 66, '150': 67, 'have': 68, 'entered': 69, 'Ossetia': 70, 'whilst': 71, 'shoots': 72, 'down': 73, 'jets.': 74, 'Breaking:': 75, 'invades': 76, 'warned': 77, 'it': 78, 'would': 79, 'intervene': 80, 'on': 81, 'SOs': 82, 'side\"': 83, 'The': 84, 'enemy': 85, 'combatent': 86, 'trials': 87, 'nothing': 88, 'but': 89, 'sham:': 90, 'Salim': 91, 'Haman': 92, 'sentenced': 93, '5': 94, '1/2': 95, 'years,': 96, 'will': 97, 'kept': 98, 'longer': 99, 'anyway': 100, 'just': 101, 'because': 102, 'feel': 103, 'like': 104, 'it.\"': 105, 'retreat': 106, 'S.': 107, 'Osettain': 108, 'capital,': 109, 'presumably': 110, 'leaving': 111, 'several': 112, 'hundred': 113, 'people': 114, 'killed.': 115, '[VIDEO]': 116, 'Did': 117, 'U.S.': 118, 'Prep': 119, 'for': 120, 'War': 121, 'Russia?': 122, 'Rice': 123, 'Gives': 124, 'Green': 125, 'Light': 126, 'Israel': 127, 'Attack': 128, 'Iran:': 129, 'Says': 130, 'no': 131, 'veto': 132, 'over': 133, 'Israeli': 134, 'military': 135, 'ops': 136, 'Announcing:Class': 137, 'Action': 138, 'Lawsuit': 139, 'Behalf': 140, 'American': 141, 'Public': 142, 'Against': 143, 'FBI': 144, 'So---Russia': 145, 'at': 146, 'war': 147, 'NYTs': 148, 'top': 149, 'story': 150, 'opening': 151, 'ceremonies': 152, 'Olympics?': 153, 'What': 154, 'fucking': 155, 'disgrace': 156, 'yet': 157, 'further': 158, 'proof': 159, 'decline': 160, 'journalism.\"': 161, 'China': 162, 'tells': 163, 'Bush': 164, 'stay': 165, 'out': 166, 'other': 167, 'affairs\"': 168, 'World': 169, 'III': 170, 'start': 171, 'today?': 172, 'Invades': 173, 'if': 174, 'gets': 175, 'involved,': 176, 'NATO': 177, 'absorb': 178, 'unleash': 179, 'full': 180, 'scale': 181, 'war?': 182, 'Al-Qaeda': 183, 'Faces': 184, 'Islamist': 185, 'Backlash': 186, 'Condoleezza': 187, 'Rice:': 188, '\"The': 189, 'US': 190, 'not': 191, 'act': 192, 'prevent': 193, 'an': 194, 'strike': 195, 'Iran.\"': 196, 'Defense': 197, 'Minister': 198, 'Ehud': 199, 'Barak:': 200, '\"Israel': 201, 'prepared': 202, 'uncompromising': 203, 'victory': 204, 'in': 205, 'case': 206, 'hostilities.\"': 207, 'This': 208, 'busy': 209, 'day:': 210, 'European': 211, 'Union': 212, 'approved': 213, 'new': 214, 'sanctions': 215, 'against': 216, 'Iran': 217, 'protest': 218, 'its': 219, 'nuclear': 220, 'programme.': 221, 'withdraw': 222, '1,000': 223, 'soldiers': 224, 'Iraq': 225, 'help': 226, 'fight': 227, 'off': 228, 'forces': 229, 'Georgias': 230, 'breakaway': 231, 'region': 232, 'Ossetia\"': 233, 'Why': 234, 'Pentagon': 235, 'Thinks': 236, 'Attacking': 237, 'Bad': 238, 'Idea': 239, 'News': 240, '&amp;': 241, 'Report': 242, 'Caucasus': 243, 'crisis:': 244, 'Indian': 245, 'shoe': 246, 'manufactory': 247, 'And': 248, 'again': 249, 'series': 250, '\"you': 251, 'your': 252, 'work?\"': 253, 'Visitors': 254, 'Suffering': 255, 'Mental': 256, 'Illnesses': 257, 'Banned': 258, 'Olympics': 259, 'No': 260, 'Help': 261, 'Mexicos': 262, 'Kidnapping': 263, 'Surge\"': 264, 'wont': 265, 'America': 266, 'Nato': 267, 'us?': 268, 'If': 269, 'us': 270, 'now,': 271, 'why': 272, 'did': 273, 'we': 274, 'them': 275, 'Iraq?': 276, 'puts': 277, 'foot': 278, 'conflict': 279, 'Jewish': 280, 'minister:': 281, 'Thanks': 282, 'training,': 283, 'were': 284, 'fending': 285, '\"': 286, 'army': 287, 'flees': 288, 'disarray': 289, 'Russians': 290, 'advance': 291, 'Gori': 292, 'abandoned': 293, 'without': 294, 'shot': 295, 'fired': 296, 'Olympic': 297, 'ceremony': 298, 'fireworks': 299, 'faked\"': 300, 'Mossad': 301, 'fraudulent': 302, 'New': 303, 'Zealand': 304, 'Passports': 305, 'doing': 306, 'angered': 307, 'sale': 308, 'An': 309, 'citizen': 310, 'living': 311, 'S.Ossetia': 312, 'blames': 313, 'leaders': 314, 'genocide': 315, 'innocent': 316, 'Welcome': 317, 'To': 318, 'IV!': 319, 'Now': 320, 'In': 321, 'High': 322, 'Definition!': 323, 'move,': 324, 'mistake': 325, 'monumental': 326, 'proportions': 327, 'presses': 328, 'deeper': 329, 'Georgia;': 330, 'regime': 331, 'change': 332, 'goal': 333, 'Abhinav': 334, 'Bindra': 335, 'wins': 336, 'first': 337, 'ever': 338, 'Individual': 339, 'Gold': 340, 'Medal': 341, 'India': 342, 'ship': 343, 'heads': 344, 'Arctic': 345, 'define': 346, 'territory': 347, 'Drivers': 348, 'Jerusalem': 349, 'taxi': 350, 'station': 351, 'threaten': 352, 'quit': 353, 'rather': 354, 'than': 355, 'work': 356, 'their': 357, 'boss': 358, 'Ara': 359, 'French': 360, 'Team': 361, 'Stunned': 362, 'Phelps': 363, '4x100m': 364, 'Relay': 365, 'behind': 366, 'aggression?': 367, '\"Do': 368, 'believe': 369, 'TV,': 370, 'neither': 371, 'nor': 372, 'Georgian.': 373, 'There': 374, 'much': 375, 'more': 376, 'victims\"': 377, 'Riots': 378, 'still': 379, 'going': 380, 'Montreal': 381, '(Canada)': 382, 'police': 383, 'murdered': 384, 'boy': 385, 'Saturday.': 386, 'overtake': 387, 'largest': 388, 'manufacturer': 389, '[PICS]': 390, 'Physicians': 391, 'Group': 392, 'Condemns': 393, 'State': 394, 'Torture': 395, 'beaten': 396, 'United': 397, 'States': 398, 'head': 399, 'Peak': 400, 'Oil': 401, 'Perhaps': 402, '*the*': 403, 'question': 404, 'about': 405, 'so': 406, 'better': 407, 'So': 408, 'what': 409, 'come': 410, 'to:': 411, 'trading': 412, 'sex': 413, 'food.\"': 414, 'Remember': 415, 'that': 416, 'adorable': 417, '9-year-old': 418, 'who': 419, 'sang': 420, 'ceremonies?': 421, 'That': 422, 'fake,': 423, 'too.': 424, 'ends': 425, 'operation\"': 426, '\"If': 427, 'had': 428, 'sexual': 429, 'harassment': 430, 'children...\"': 431, 'losing': 432, 'support': 433, 'brutal': 434, 'crackdown': 435, 'activities': 436, 'regards': 437, 'un-Islamic': 438, 'including': 439, 'women': 440, 'buying': 441, 'cucumbers\"': 442, 'Ceasefire': 443, 'Georgia:': 444, 'Putin': 445, 'Outmaneuvers': 446, 'West': 447, 'Microsoft': 448, 'Intel': 449, 'tried': 450, 'kill': 451, 'XO': 452, '$100': 453, 'laptop': 454, 'Stratfor:': 455, 'Russo-Georgian': 456, 'Balance': 457, 'Power': 458, 'Im': 459, 'Trying': 460, 'Get': 461, 'Sense': 462, 'Whole': 463, 'Georgia-Russia': 464, 'War:': 465, 'Vote': 466, 'Up': 467, 'You': 468, 'Think': 469, 'Started': 470, 'It,': 471, 'Or': 472, 'Down': 473, 'you': 474, 'Did\"': 475, 'surprised': 476, 'timing': 477, 'swiftness': 478, 'militarys': 479, 'trying': 480, 'sort': 481, 'happened,': 482, 'defense': 483, 'said': 484, 'Monday\"': 485, 'Beats': 486, 'Drum': 487, 'Dumps': 488, 'Dollar': 489, 'Gorbachev:': 490, '\"Georgian': 491, 'attacked': 492, 'Ossetian': 493, 'Tskhinvali': 494, 'multiple': 495, 'rocket': 496, 'launchers': 497, 'designed': 498, 'devastate': 499, 'large': 500, 'areas\"': 501, 'CNN': 502, 'use': 503, 'ruins': 504, 'cover': 505, 'report': 506, 'Beginning': 507, 'violates': 508, 'ancient': 509, 'tradition': 510, 'truce': 511, 'during': 512, 'Games.': 513, 'IOC': 514, 'could': 515, 'respond': 516, 'taking': 517, '2014': 518, 'games': 519, 'away': 520, 'Russia.': 521, '55': 522, 'pyramids': 523, 'Luxor': 524, 'stacked': 525, 'mega-city': 526, 'pyramid': 527, 'Tokyo': 528, 'Bay': 529, '11': 530, 'Top': 531, 'Party': 532, 'Cities': 533, '(did': 534, 'know': 535, 'place?)': 536, 'Russias': 537, 'response': 538, 'right': 539, 'Gorbachev': 540, 'accuses': 541, 'making': 542, '\"serious': 543, 'blunder\"': 544, 'pursuing': 545, 'interest': 546, 'Russia,': 547, 'Georgia,': 548, 'NATO:': 549, 'Cold': 550, 'Two': 551, '62-year-old': 552, 'led': 553, 'country': 554, 'based': 555, 'evidence?': 556, 'connection': 557, 'All': 558, 'signs': 559, 'point': 560, 'encouraging': 561, 'invade': 562, 'Ossetia.': 563, 'Goddamnit': 564, 'Bush.': 565, 'Christopher': 566, 'King': 567, 'argues': 568, 'invasion': 569, 'misjudged': 570, 'resolve.': 571, 'America:': 572, 'Mexico?': 573, 'BBC': 574, 'NEWS': 575, '|': 576, 'Asia-Pacific': 577, 'Extinction': 578, 'man': 579, 'climate\"': 580, 'refuses': 581, 'weapons': 582, 'attack': 583, 'When': 584, 'president': 585, 'ordered': 586, '[the': 587, 'Ossetia],': 588, 'knew': 589, 'then': 590, 'doomed.': 591, 'How': 592, 'he': 593, 'didnt': 594, 'realize': 595, 'that?\"': 596, 'clears': 597, 'killed': 598, 'Reuters': 599, 'cameraman': 600, 'Britain\\\\s': 601, 'policy': 602, 'being': 603, 'tough': 604, 'drugs': 605, '\"pointless\",': 606, 'former': 607, 'civil': 608, 'servant': 609, 'once': 610, 'ran': 611, 'Cabinet\\\\s': 612, 'anti-drugs': 613, 'unit.': 614, 'Body': 615, '14': 616, 'found': 617, 'trunk;': 618, 'Latest': 619, '(ransom': 620, 'paid)': 621, 'kidnapping': 622, 'victim': 623, 'Mexico.': 624, 'Head': 625, 'cop': 626, 'quits,': 627, 'Prez': 628, 'dissolves': 629, 'suspect': 630, 'elite': 631, 'task': 632, 'force': 633, 'moved': 634, '10': 635, '*million*': 636, 'quake': 637, 'survivors': 638, 'prefab': 639, 'homes': 640, 'announces': 641, 'Operation': 642, 'Grill.': 643, 'Yeah,': 644, 'end': 645, 'well.\"': 646, 'sink': 647, 'ships': 648, 'commander': 649, 'Navy': 650, 'air': 651, 'reconnaissance': 652, 'squadron': 653, 'provides': 654, 'President': 655, 'secretary': 656, 'airborne': 657, 'ability': 658, 'command': 659, 'nations': 660, 'relieved': 661, 'duty\"': 662, '92%': 663, 'readers:': 664, 'actions': 665, 'justified!\"': 666, 'USA': 667, 'send': 668, 'fleet': 669, 'Black': 670, 'Sea': 671, '\"humanitarian': 672, 'aid': 673, 'exercise\"': 674, 'warns': 675, 'plan': 676, 'Irans': 677, 'facilities\"': 678, 'intriguing': 679, 'cyberalliance,': 680, 'Estonian': 681, 'computer': 682, 'experts': 683, 'heading': 684, 'keep': 685, 'countrys': 686, 'networks': 687, 'running': 688, 'amid': 689, 'intense': 690, 'confrontation': 691, 'Russia\"': 692, 'Effect:': 693, 'Schools': 694, 'Information': 695, 'Warfare': 696, 'Elephants': 697, 'extinct': 698, '2020?': 699, 'humanitarian': 700, 'missions': 701, 'soon': 702, 'hits': 703, 'WWIII?': 704, 'DDOS': 705, 'came': 706, 'sources\"': 707, 'convoy': 708, 'violating': 709, 'defence': 710, 'We': 711, 'Had': 712, 'Choice': 713, 'Witness:': 714, 'Tbilisi': 715, 'breach': 716, 'ceasefire': 717, 'agreement': 718, 'Quarter': 719, 'blame': 720, 'conflict:': 721, 'poll': 722, 'take': 723, 'control': 724, 'seaports': 725, 'airports': 726, 'denies': 727, '2006:': 728, 'Nobel': 729, 'laureate': 730, 'Aleksander': 731, 'Solzhenitsyn': 732, 'U.S.,': 733, 'encircling': 734, 'admit': 735, 'should': 736, 'legalise': 737, 'Osetia': 738, '89': 739, 'pictures': 740, 'made': 741, 'soldier.': 742, 'Swedish': 743, 'wrestler': 744, 'Abrahamian': 745, 'throws': 746, 'medal': 747, 'hissy': 748, 'fit': 749, 'exaggerated': 750, 'death': 751, 'toll': 752, 'only': 753, '44': 754, 'originally': 755, 'compared': 756, '2,000.': 757, 'Missile': 758, 'Killed': 759, '9': 760, 'Inside': 761, 'Pakistan': 762, 'May': 763, 'Have': 764, 'Been': 765, 'Launched': 766, 'CIA': 767, 'Rushdie': 768, 'Random': 769, 'Houses': 770, 'Refusal': 771, 'Publish': 772, 'Novel': 773, 'Fear': 774, 'Muslim': 775, 'Retaliation\"': 776, 'Poland': 777, 'agree': 778, 'missle': 779, 'deal.': 780, 'Interesting': 781, 'timing!': 782, 'Will': 783, 'conquer': 784, 'Tblisi?': 785, 'Bet': 786, 'it,': 787, 'seriously': 788, 'can': 789, 'BET': 790, 'exaggerating': 791, 'toll,': 792, 'human': 793, 'rights': 794, 'group': 795, 'expected': 796, 'resign': 797, 'face': 798, 'impeachment': 799, 'Moscow': 800, 'Made': 801, 'Plans': 802, 'Months': 803, 'Ago': 804, 'Invade': 805, 'Nigeria': 806, 'handed': 807, 'potentially': 808, 'oil-rich': 809, 'Bakassi': 810, 'peninsula': 811, 'Cameroon.': 812, 'agreed': 813, 'preliminary': 814, 'deal': 815, 'plans': 816, 'controversial': 817, 'shield': 818, 'apparently': 819, 'sabotaging': 820, 'infrastructure': 821, 'cripple': 822, 'already': 823, 'battered': 824, 'military.': 825, 'Bank': 826, 'analyst': 827, 'forecast': 828, 'crisis': 829, '2': 830, 'days': 831, 'early': 832, 'confict': 833, 'set': 834, 'back': 835, 'relations': 836, 'years': 837, 'news': 838, 'guardian.co.uk\"': 839, 'product': 840, 'imperial': 841, 'drive': 842, 'local': 843, 'conflicts.': 844, '\"Non-media\"': 845, 'photos': 846, 'Ossetia/Georgia': 847, 'conflict.': 848, 'TV': 849, 'reporter': 850, 'sniper': 851, 'live': 852, 'broadcast': 853, '[video]': 854, 'Saudi': 855, 'Arabia:': 856, 'Mother': 857, 'moves': 858, 'block': 859, 'child': 860, 'marriage': 861, 'Taliban': 862, 'wages': 863, 'workers': 864, 'Russia:': 865, '\"can': 866, 'forget': 867, 'about\"': 868, 'Georgia\\\\s': 869, 'territorial': 870, 'integrity': 871, 'Darfur': 872, 'rebels': 873, 'accuse': 874, 'Sudan': 875, 'mounting': 876, 'major': 877, 'Philippines': 878, ':': 879, 'Peace': 880, 'Advocate': 881, 'say': 882, 'Muslims': 883, 'need': 884, 'assurance': 885, 'Christians': 886, 'convert': 887}\n"
     ]
    }
   ],
   "source": [
    "print(\"Shape of stored results array:\", results.shape)\n",
    "print(\"Token index of unique words: \\n\", token_index)\n",
    "\n",
    "for i, sample in enumerate(samples):\n",
    "    for j, word in list(enumerate(sample.split()))[:max_length]:\n",
    "        index = token_index.get(word)\n",
    "        results[i,j,index] = 1"
   ]
  },
  {
   "cell_type": "code",
   "execution_count": 20,
   "metadata": {
    "execution": {
     "iopub.execute_input": "2023-09-23T03:39:56.178709Z",
     "iopub.status.busy": "2023-09-23T03:39:56.178145Z",
     "iopub.status.idle": "2023-09-23T03:39:56.193825Z",
     "shell.execute_reply": "2023-09-23T03:39:56.192424Z",
     "shell.execute_reply.started": "2023-09-23T03:39:56.178511Z"
    }
   },
   "outputs": [
    {
     "name": "stdout",
     "output_type": "stream",
     "text": [
      "shape of input data:  (1989,)\n",
      "shape of target variable:  (1989,)\n"
     ]
    }
   ],
   "source": [
    "# one hot encoding using keras tokenizer and pad sequencing\n",
    "X = merge['Combined_News']\n",
    "encoder = LabelEncoder()\n",
    "# y = encoder.fit_transform(merge['Combined_News'])\n",
    "y=merge['Label']\n",
    "print(\"shape of input data: \", X.shape)\n",
    "print(\"shape of target variable: \", y.shape)\n",
    "\n",
    "X_train, X_test, y_train, y_test = train_test_split(X, y, test_size=0.20)"
   ]
  },
  {
   "cell_type": "code",
   "execution_count": 21,
   "metadata": {
    "execution": {
     "iopub.execute_input": "2023-09-23T03:39:56.196928Z",
     "iopub.status.busy": "2023-09-23T03:39:56.196000Z",
     "iopub.status.idle": "2023-09-23T03:39:56.204372Z",
     "shell.execute_reply": "2023-09-23T03:39:56.203410Z",
     "shell.execute_reply.started": "2023-09-23T03:39:56.196887Z"
    }
   },
   "outputs": [],
   "source": [
    "import tqdm\n",
    "import nltk\n",
    "\n",
    "import re\n",
    "from bs4 import BeautifulSoup\n",
    "import requests\n",
    "import unicodedata\n",
    "from nltk.corpus import stopwords\n",
    "from nltk.tokenize import word_tokenize\n",
    "\n"
   ]
  },
  {
   "cell_type": "code",
   "execution_count": 22,
   "metadata": {
    "execution": {
     "iopub.execute_input": "2023-09-23T03:39:56.207075Z",
     "iopub.status.busy": "2023-09-23T03:39:56.206175Z",
     "iopub.status.idle": "2023-09-23T03:39:56.217222Z",
     "shell.execute_reply": "2023-09-23T03:39:56.216270Z",
     "shell.execute_reply.started": "2023-09-23T03:39:56.207036Z"
    }
   },
   "outputs": [],
   "source": [
    "\n",
    "\n",
    "def remove_accented_characters(text):\n",
    "    text =  unicodedata.normalize('NFKD',text).encode('ascii','ignore').decode('utf-8','ignore')\n",
    "    return text\n",
    "\n",
    "\n",
    "\n",
    "def contractions_text(text):\n",
    "    return contractions.fix(text)\n",
    "\n",
    "def stop_words(text):\n",
    "    stop_words = set(stopwords.words('english'))\n",
    "    word_tokens = word_tokenize(text)\n",
    "    filtered_sentence = [w for w in word_tokens if not w.lower() in stop_words]\n",
    "    filtered_sentence = []\n",
    "  \n",
    "    for w in word_tokens:\n",
    "        \n",
    "        if w not in stop_words:\n",
    "            \n",
    "            filtered_sentence.append(w)\n",
    "    return filtered_sentence\n",
    "    "
   ]
  },
  {
   "cell_type": "code",
   "execution_count": 23,
   "metadata": {
    "execution": {
     "iopub.execute_input": "2023-09-23T03:39:56.226113Z",
     "iopub.status.busy": "2023-09-23T03:39:56.225322Z",
     "iopub.status.idle": "2023-09-23T03:39:56.231677Z",
     "shell.execute_reply": "2023-09-23T03:39:56.230694Z",
     "shell.execute_reply.started": "2023-09-23T03:39:56.226077Z"
    }
   },
   "outputs": [],
   "source": [
    "def preprocessor_engine(text):\n",
    "    corpus =[]\n",
    "    for sent in tqdm.tqdm(text):\n",
    "        sent = remove_accented_characters(sent)\n",
    "        sent = stop_words(sent)\n",
    "        corpus.append(sent)\n",
    "    return corpus"
   ]
  },
  {
   "cell_type": "code",
   "execution_count": 24,
   "metadata": {
    "execution": {
     "iopub.execute_input": "2023-09-23T03:39:56.233923Z",
     "iopub.status.busy": "2023-09-23T03:39:56.233239Z",
     "iopub.status.idle": "2023-09-23T03:40:05.692380Z",
     "shell.execute_reply": "2023-09-23T03:40:05.691192Z",
     "shell.execute_reply.started": "2023-09-23T03:39:56.233889Z"
    }
   },
   "outputs": [
    {
     "name": "stderr",
     "output_type": "stream",
     "text": [
      "100%|█████████████████████████████████████████████████████████████████████████████| 1591/1591 [00:03<00:00, 416.60it/s]\n"
     ]
    }
   ],
   "source": [
    "train_data_pro = preprocessor_engine(X_train)"
   ]
  },
  {
   "cell_type": "code",
   "execution_count": 25,
   "metadata": {
    "execution": {
     "iopub.execute_input": "2023-09-23T03:40:05.694631Z",
     "iopub.status.busy": "2023-09-23T03:40:05.694226Z",
     "iopub.status.idle": "2023-09-23T03:40:08.023848Z",
     "shell.execute_reply": "2023-09-23T03:40:08.022551Z",
     "shell.execute_reply.started": "2023-09-23T03:40:05.694594Z"
    }
   },
   "outputs": [
    {
     "name": "stderr",
     "output_type": "stream",
     "text": [
      "100%|███████████████████████████████████████████████████████████████████████████████| 398/398 [00:00<00:00, 428.47it/s]\n"
     ]
    }
   ],
   "source": [
    "test_data_pro = preprocessor_engine(X_test)"
   ]
  },
  {
   "cell_type": "code",
   "execution_count": 26,
   "metadata": {
    "execution": {
     "iopub.execute_input": "2023-09-23T03:40:08.026101Z",
     "iopub.status.busy": "2023-09-23T03:40:08.025697Z",
     "iopub.status.idle": "2023-09-23T03:40:08.032386Z",
     "shell.execute_reply": "2023-09-23T03:40:08.031222Z",
     "shell.execute_reply.started": "2023-09-23T03:40:08.026066Z"
    }
   },
   "outputs": [],
   "source": [
    "from wordcloud import WordCloud, STOPWORDS\n",
    "import matplotlib.pyplot as plt\n",
    "import pandas as pd"
   ]
  },
  {
   "cell_type": "code",
   "execution_count": 27,
   "metadata": {
    "execution": {
     "iopub.execute_input": "2023-09-23T03:40:08.035502Z",
     "iopub.status.busy": "2023-09-23T03:40:08.034214Z",
     "iopub.status.idle": "2023-09-23T03:40:08.045541Z",
     "shell.execute_reply": "2023-09-23T03:40:08.044433Z",
     "shell.execute_reply.started": "2023-09-23T03:40:08.035465Z"
    }
   },
   "outputs": [],
   "source": [
    "articles_list=[]"
   ]
  },
  {
   "cell_type": "code",
   "execution_count": 28,
   "metadata": {
    "execution": {
     "iopub.execute_input": "2023-09-23T03:40:08.047751Z",
     "iopub.status.busy": "2023-09-23T03:40:08.047310Z",
     "iopub.status.idle": "2023-09-23T03:40:08.072304Z",
     "shell.execute_reply": "2023-09-23T03:40:08.071173Z",
     "shell.execute_reply.started": "2023-09-23T03:40:08.047697Z"
    }
   },
   "outputs": [],
   "source": [
    "cat_array = train_data_pro # array of news articles text in each category\n",
    "for i in range(len(cat_array)):\n",
    "    articles_list.append(cat_array[i])"
   ]
  },
  {
   "cell_type": "code",
   "execution_count": 29,
   "metadata": {
    "execution": {
     "iopub.execute_input": "2023-09-23T03:40:08.075359Z",
     "iopub.status.busy": "2023-09-23T03:40:08.074663Z",
     "iopub.status.idle": "2023-09-23T03:40:08.083331Z",
     "shell.execute_reply": "2023-09-23T03:40:08.082285Z",
     "shell.execute_reply.started": "2023-09-23T03:40:08.075325Z"
    }
   },
   "outputs": [],
   "source": [
    "wc1 = WordCloud(max_words=1000, \n",
    "               min_font_size=10,\n",
    "               height=600,\n",
    "               width=1600,\n",
    "               background_color='black',\n",
    "               contour_color='black',\n",
    "               colormap='plasma',\n",
    "               repeat=True,\n",
    "               stopwords=STOPWORDS)"
   ]
  },
  {
   "cell_type": "code",
   "execution_count": 30,
   "metadata": {
    "execution": {
     "iopub.execute_input": "2023-09-23T03:40:08.087340Z",
     "iopub.status.busy": "2023-09-23T03:40:08.087069Z",
     "iopub.status.idle": "2023-09-23T03:40:08.586714Z",
     "shell.execute_reply": "2023-09-23T03:40:08.585687Z",
     "shell.execute_reply.started": "2023-09-23T03:40:08.087317Z"
    }
   },
   "outputs": [],
   "source": [
    "tokenizer = Tokenizer( oov_token='<UNK>') \n",
    "tokenizer.fit_on_texts(train_data_pro) # build the word index\n"
   ]
  },
  {
   "cell_type": "code",
   "execution_count": 31,
   "metadata": {
    "execution": {
     "iopub.execute_input": "2023-09-23T03:40:08.588623Z",
     "iopub.status.busy": "2023-09-23T03:40:08.588121Z",
     "iopub.status.idle": "2023-09-23T03:40:08.971425Z",
     "shell.execute_reply": "2023-09-23T03:40:08.970275Z",
     "shell.execute_reply.started": "2023-09-23T03:40:08.588586Z"
    }
   },
   "outputs": [],
   "source": [
    "train_sequences = tokenizer.texts_to_sequences(train_data_pro)\n",
    "test_sequences = tokenizer.texts_to_sequences(test_data_pro)"
   ]
  },
  {
   "cell_type": "code",
   "execution_count": 32,
   "metadata": {
    "execution": {
     "iopub.execute_input": "2023-09-23T03:40:08.983443Z",
     "iopub.status.busy": "2023-09-23T03:40:08.983086Z",
     "iopub.status.idle": "2023-09-23T03:40:09.078322Z",
     "shell.execute_reply": "2023-09-23T03:40:09.077096Z",
     "shell.execute_reply.started": "2023-09-23T03:40:08.983416Z"
    }
   },
   "outputs": [],
   "source": [
    "MAX_SEQUENCE_LENGTH = 424\n",
    "\n",
    "train_pad_sequences = tf.keras.preprocessing.sequence.pad_sequences(train_sequences, maxlen = MAX_SEQUENCE_LENGTH, padding='post')\n",
    "test_pad_sequneces = tf.keras.preprocessing.sequence.pad_sequences(test_sequences, maxlen = MAX_SEQUENCE_LENGTH, padding='post')"
   ]
  },
  {
   "cell_type": "code",
   "execution_count": 33,
   "metadata": {
    "execution": {
     "iopub.execute_input": "2023-09-23T03:40:09.080415Z",
     "iopub.status.busy": "2023-09-23T03:40:09.080032Z",
     "iopub.status.idle": "2023-09-23T03:40:09.086374Z",
     "shell.execute_reply": "2023-09-23T03:40:09.085207Z",
     "shell.execute_reply.started": "2023-09-23T03:40:09.080380Z"
    }
   },
   "outputs": [],
   "source": [
    "total_words=len(tokenizer.word_index)"
   ]
  },
  {
   "cell_type": "code",
   "execution_count": 34,
   "metadata": {
    "execution": {
     "iopub.execute_input": "2023-09-23T03:40:09.089068Z",
     "iopub.status.busy": "2023-09-23T03:40:09.088041Z",
     "iopub.status.idle": "2023-09-23T03:40:09.097139Z",
     "shell.execute_reply": "2023-09-23T03:40:09.095909Z",
     "shell.execute_reply.started": "2023-09-23T03:40:09.089032Z"
    }
   },
   "outputs": [],
   "source": [
    "from keras.layers import Embedding, Flatten, Dense, Dropout\n",
    "from keras.layers import Conv1D, SimpleRNN, Bidirectional, MaxPooling1D, GlobalMaxPool1D, LSTM, GRU\n",
    "from keras.models import Sequential\n",
    "from keras.regularizers import L1L2"
   ]
  },
  {
   "cell_type": "code",
   "execution_count": 35,
   "metadata": {
    "execution": {
     "iopub.execute_input": "2023-09-23T03:40:09.099290Z",
     "iopub.status.busy": "2023-09-23T03:40:09.098509Z",
     "iopub.status.idle": "2023-09-23T03:40:09.550425Z",
     "shell.execute_reply": "2023-09-23T03:40:09.549608Z",
     "shell.execute_reply.started": "2023-09-23T03:40:09.099255Z"
    }
   },
   "outputs": [
    {
     "name": "stdout",
     "output_type": "stream",
     "text": [
      "Model: \"sequential\"\n",
      "_________________________________________________________________\n",
      " Layer (type)                Output Shape              Param #   \n",
      "=================================================================\n",
      " embedding (Embedding)       (None, 424, 300)          11186400  \n",
      "                                                                 \n",
      " bidirectional (Bidirection  (None, 424, 128)          46720     \n",
      " al)                                                             \n",
      "                                                                 \n",
      " bidirectional_1 (Bidirecti  (None, 424, 128)          24704     \n",
      " onal)                                                           \n",
      "                                                                 \n",
      " simple_rnn_2 (SimpleRNN)    (None, 32)                5152      \n",
      "                                                                 \n",
      " dropout (Dropout)           (None, 32)                0         \n",
      "                                                                 \n",
      " dense (Dense)               (None, 1)                 33        \n",
      "                                                                 \n",
      "=================================================================\n",
      "Total params: 11263009 (42.96 MB)\n",
      "Trainable params: 11263009 (42.96 MB)\n",
      "Non-trainable params: 0 (0.00 Byte)\n",
      "_________________________________________________________________\n"
     ]
    }
   ],
   "source": [
    "model = Sequential()\n",
    "model.add(Embedding(total_words, 300, input_length=MAX_SEQUENCE_LENGTH ))\n",
    "model.add(Bidirectional(SimpleRNN(64, dropout=0.1, recurrent_dropout=0.20, activation='tanh', return_sequences=True)))\n",
    "model.add(Bidirectional(SimpleRNN(64, dropout=0.1, recurrent_dropout=0.30, activation='tanh', return_sequences=True)))\n",
    "model.add(SimpleRNN(32, activation='tanh'))\n",
    "model.add(Dropout(0.2))\n",
    "model.add(Dense(1, activation='softmax'))\n",
    "model.summary()"
   ]
  },
  {
   "cell_type": "code",
   "execution_count": 36,
   "metadata": {
    "execution": {
     "iopub.execute_input": "2023-09-23T03:40:09.552290Z",
     "iopub.status.busy": "2023-09-23T03:40:09.551918Z",
     "iopub.status.idle": "2023-09-23T03:40:09.573037Z",
     "shell.execute_reply": "2023-09-23T03:40:09.572017Z",
     "shell.execute_reply.started": "2023-09-23T03:40:09.552254Z"
    }
   },
   "outputs": [],
   "source": [
    "model.compile(optimizer=\"rmsprop\",loss='binary_crossentropy',\n",
    "            metrics=['accuracy'])"
   ]
  },
  {
   "cell_type": "code",
   "execution_count": 37,
   "metadata": {
    "execution": {
     "iopub.execute_input": "2023-09-23T03:44:39.949674Z",
     "iopub.status.busy": "2023-09-23T03:44:39.948953Z",
     "iopub.status.idle": "2023-09-23T03:44:39.955431Z",
     "shell.execute_reply": "2023-09-23T03:44:39.954308Z",
     "shell.execute_reply.started": "2023-09-23T03:44:39.949622Z"
    }
   },
   "outputs": [],
   "source": [
    "def get_subjectivity(text):\n",
    "    return TextBlob(text).sentiment.subjectivity\n",
    "def get_polarity(text):\n",
    "    return TextBlob(text).sentiment.polarity"
   ]
  },
  {
   "cell_type": "code",
   "execution_count": 38,
   "metadata": {
    "execution": {
     "iopub.execute_input": "2023-09-23T03:44:39.957442Z",
     "iopub.status.busy": "2023-09-23T03:44:39.957044Z",
     "iopub.status.idle": "2023-09-23T03:44:54.031383Z",
     "shell.execute_reply": "2023-09-23T03:44:54.030339Z",
     "shell.execute_reply.started": "2023-09-23T03:44:39.957410Z"
    }
   },
   "outputs": [],
   "source": [
    "#Finding the Subjitivity and polarity score from the data set\n",
    "merge['Subjectivity'] = merge['Combined_News'].apply(get_subjectivity)\n",
    "merge['Polarity'] = merge['Combined_News'].apply(get_polarity)"
   ]
  },
  {
   "cell_type": "code",
   "execution_count": 39,
   "metadata": {
    "execution": {
     "iopub.execute_input": "2023-09-23T03:45:34.250248Z",
     "iopub.status.busy": "2023-09-23T03:45:34.249811Z",
     "iopub.status.idle": "2023-09-23T03:45:34.264389Z",
     "shell.execute_reply": "2023-09-23T03:45:34.263003Z",
     "shell.execute_reply.started": "2023-09-23T03:45:34.250210Z"
    }
   },
   "outputs": [],
   "source": [
    "from vaderSentiment.vaderSentiment import SentimentIntensityAnalyzer"
   ]
  },
  {
   "cell_type": "code",
   "execution_count": 40,
   "metadata": {
    "execution": {
     "iopub.execute_input": "2023-09-23T03:45:36.862415Z",
     "iopub.status.busy": "2023-09-23T03:45:36.862010Z",
     "iopub.status.idle": "2023-09-23T03:45:36.867823Z",
     "shell.execute_reply": "2023-09-23T03:45:36.866733Z",
     "shell.execute_reply.started": "2023-09-23T03:45:36.862382Z"
    }
   },
   "outputs": [],
   "source": [
    "def getSIA(text):\n",
    "    sia = SentimentIntensityAnalyzer()\n",
    "    sentiment= sia.polarity_scores(text)\n",
    "    return sentiment"
   ]
  },
  {
   "cell_type": "code",
   "execution_count": 41,
   "metadata": {
    "execution": {
     "iopub.execute_input": "2023-09-23T03:45:43.340237Z",
     "iopub.status.busy": "2023-09-23T03:45:43.339504Z",
     "iopub.status.idle": "2023-09-23T03:46:47.156928Z",
     "shell.execute_reply": "2023-09-23T03:46:47.155902Z",
     "shell.execute_reply.started": "2023-09-23T03:45:43.340203Z"
    }
   },
   "outputs": [],
   "source": [
    "compound=[]\n",
    "neg=[]\n",
    "pos=[]\n",
    "neu=[]\n",
    "SIA=0\n",
    "\n",
    "for i in range (0, len(merge['Combined_News'])):\n",
    "    SIA= getSIA(merge['Combined_News'][i])\n",
    "    compound.append(SIA['compound'])\n",
    "    neg.append(SIA['neg'])\n",
    "    pos.append(SIA['pos'])\n",
    "    neu.append(SIA['neu'])"
   ]
  },
  {
   "cell_type": "code",
   "execution_count": 42,
   "metadata": {
    "execution": {
     "iopub.execute_input": "2023-09-23T03:47:09.710483Z",
     "iopub.status.busy": "2023-09-23T03:47:09.710021Z",
     "iopub.status.idle": "2023-09-23T03:47:09.719739Z",
     "shell.execute_reply": "2023-09-23T03:47:09.718710Z",
     "shell.execute_reply.started": "2023-09-23T03:47:09.710445Z"
    }
   },
   "outputs": [],
   "source": [
    "merge['compound']= compound\n",
    "merge['neg']= neg\n",
    "merge['pos']=pos\n",
    "merge['neu']=neu"
   ]
  },
  {
   "cell_type": "code",
   "execution_count": 43,
   "metadata": {
    "execution": {
     "iopub.execute_input": "2023-09-23T03:47:11.922033Z",
     "iopub.status.busy": "2023-09-23T03:47:11.921669Z",
     "iopub.status.idle": "2023-09-23T03:47:11.957488Z",
     "shell.execute_reply": "2023-09-23T03:47:11.956557Z",
     "shell.execute_reply.started": "2023-09-23T03:47:11.922004Z"
    }
   },
   "outputs": [
    {
     "data": {
      "text/html": [
       "<div>\n",
       "<style scoped>\n",
       "    .dataframe tbody tr th:only-of-type {\n",
       "        vertical-align: middle;\n",
       "    }\n",
       "\n",
       "    .dataframe tbody tr th {\n",
       "        vertical-align: top;\n",
       "    }\n",
       "\n",
       "    .dataframe thead th {\n",
       "        text-align: right;\n",
       "    }\n",
       "</style>\n",
       "<table border=\"1\" class=\"dataframe\">\n",
       "  <thead>\n",
       "    <tr style=\"text-align: right;\">\n",
       "      <th></th>\n",
       "      <th>Label</th>\n",
       "      <th>Open</th>\n",
       "      <th>High</th>\n",
       "      <th>Low</th>\n",
       "      <th>Volume</th>\n",
       "      <th>Subjectivity</th>\n",
       "      <th>Polarity</th>\n",
       "      <th>compound</th>\n",
       "      <th>neg</th>\n",
       "      <th>pos</th>\n",
       "      <th>neu</th>\n",
       "    </tr>\n",
       "  </thead>\n",
       "  <tbody>\n",
       "    <tr>\n",
       "      <th>0</th>\n",
       "      <td>0</td>\n",
       "      <td>11432.089844</td>\n",
       "      <td>11759.959961</td>\n",
       "      <td>11388.040039</td>\n",
       "      <td>212830000</td>\n",
       "      <td>0.267549</td>\n",
       "      <td>-0.048568</td>\n",
       "      <td>-0.9982</td>\n",
       "      <td>0.235</td>\n",
       "      <td>0.041</td>\n",
       "      <td>0.724</td>\n",
       "    </tr>\n",
       "    <tr>\n",
       "      <th>1</th>\n",
       "      <td>1</td>\n",
       "      <td>11729.669922</td>\n",
       "      <td>11867.110352</td>\n",
       "      <td>11675.530273</td>\n",
       "      <td>183190000</td>\n",
       "      <td>0.374806</td>\n",
       "      <td>0.121956</td>\n",
       "      <td>-0.9858</td>\n",
       "      <td>0.191</td>\n",
       "      <td>0.089</td>\n",
       "      <td>0.721</td>\n",
       "    </tr>\n",
       "    <tr>\n",
       "      <th>2</th>\n",
       "      <td>0</td>\n",
       "      <td>11781.700195</td>\n",
       "      <td>11782.349609</td>\n",
       "      <td>11601.519531</td>\n",
       "      <td>173590000</td>\n",
       "      <td>0.536234</td>\n",
       "      <td>-0.044302</td>\n",
       "      <td>-0.9715</td>\n",
       "      <td>0.128</td>\n",
       "      <td>0.056</td>\n",
       "      <td>0.816</td>\n",
       "    </tr>\n",
       "    <tr>\n",
       "      <th>3</th>\n",
       "      <td>0</td>\n",
       "      <td>11632.809570</td>\n",
       "      <td>11633.780273</td>\n",
       "      <td>11453.339844</td>\n",
       "      <td>182550000</td>\n",
       "      <td>0.364021</td>\n",
       "      <td>0.011398</td>\n",
       "      <td>-0.9809</td>\n",
       "      <td>0.146</td>\n",
       "      <td>0.066</td>\n",
       "      <td>0.788</td>\n",
       "    </tr>\n",
       "    <tr>\n",
       "      <th>4</th>\n",
       "      <td>1</td>\n",
       "      <td>11532.070312</td>\n",
       "      <td>11718.280273</td>\n",
       "      <td>11450.889648</td>\n",
       "      <td>159790000</td>\n",
       "      <td>0.375099</td>\n",
       "      <td>0.040677</td>\n",
       "      <td>-0.9882</td>\n",
       "      <td>0.189</td>\n",
       "      <td>0.094</td>\n",
       "      <td>0.717</td>\n",
       "    </tr>\n",
       "    <tr>\n",
       "      <th>...</th>\n",
       "      <td>...</td>\n",
       "      <td>...</td>\n",
       "      <td>...</td>\n",
       "      <td>...</td>\n",
       "      <td>...</td>\n",
       "      <td>...</td>\n",
       "      <td>...</td>\n",
       "      <td>...</td>\n",
       "      <td>...</td>\n",
       "      <td>...</td>\n",
       "      <td>...</td>\n",
       "    </tr>\n",
       "    <tr>\n",
       "      <th>1984</th>\n",
       "      <td>0</td>\n",
       "      <td>17355.210938</td>\n",
       "      <td>17355.210938</td>\n",
       "      <td>17063.080078</td>\n",
       "      <td>138740000</td>\n",
       "      <td>0.352311</td>\n",
       "      <td>-0.014015</td>\n",
       "      <td>-0.9644</td>\n",
       "      <td>0.148</td>\n",
       "      <td>0.094</td>\n",
       "      <td>0.758</td>\n",
       "    </tr>\n",
       "    <tr>\n",
       "      <th>1985</th>\n",
       "      <td>1</td>\n",
       "      <td>17190.509766</td>\n",
       "      <td>17409.720703</td>\n",
       "      <td>17190.509766</td>\n",
       "      <td>112190000</td>\n",
       "      <td>0.352649</td>\n",
       "      <td>0.046560</td>\n",
       "      <td>-0.9571</td>\n",
       "      <td>0.132</td>\n",
       "      <td>0.102</td>\n",
       "      <td>0.767</td>\n",
       "    </tr>\n",
       "    <tr>\n",
       "      <th>1986</th>\n",
       "      <td>1</td>\n",
       "      <td>17456.019531</td>\n",
       "      <td>17704.509766</td>\n",
       "      <td>17456.019531</td>\n",
       "      <td>106380000</td>\n",
       "      <td>0.389617</td>\n",
       "      <td>0.052622</td>\n",
       "      <td>-0.9975</td>\n",
       "      <td>0.225</td>\n",
       "      <td>0.091</td>\n",
       "      <td>0.684</td>\n",
       "    </tr>\n",
       "    <tr>\n",
       "      <th>1987</th>\n",
       "      <td>1</td>\n",
       "      <td>17712.759766</td>\n",
       "      <td>17930.609375</td>\n",
       "      <td>17711.800781</td>\n",
       "      <td>133030000</td>\n",
       "      <td>0.382566</td>\n",
       "      <td>0.011243</td>\n",
       "      <td>-0.9977</td>\n",
       "      <td>0.202</td>\n",
       "      <td>0.061</td>\n",
       "      <td>0.738</td>\n",
       "    </tr>\n",
       "    <tr>\n",
       "      <th>1988</th>\n",
       "      <td>1</td>\n",
       "      <td>17924.240234</td>\n",
       "      <td>18002.380859</td>\n",
       "      <td>17916.910156</td>\n",
       "      <td>82160000</td>\n",
       "      <td>0.320261</td>\n",
       "      <td>-0.035458</td>\n",
       "      <td>-0.9983</td>\n",
       "      <td>0.212</td>\n",
       "      <td>0.059</td>\n",
       "      <td>0.729</td>\n",
       "    </tr>\n",
       "  </tbody>\n",
       "</table>\n",
       "<p>1989 rows × 11 columns</p>\n",
       "</div>"
      ],
      "text/plain": [
       "      Label          Open          High           Low     Volume  \\\n",
       "0         0  11432.089844  11759.959961  11388.040039  212830000   \n",
       "1         1  11729.669922  11867.110352  11675.530273  183190000   \n",
       "2         0  11781.700195  11782.349609  11601.519531  173590000   \n",
       "3         0  11632.809570  11633.780273  11453.339844  182550000   \n",
       "4         1  11532.070312  11718.280273  11450.889648  159790000   \n",
       "...     ...           ...           ...           ...        ...   \n",
       "1984      0  17355.210938  17355.210938  17063.080078  138740000   \n",
       "1985      1  17190.509766  17409.720703  17190.509766  112190000   \n",
       "1986      1  17456.019531  17704.509766  17456.019531  106380000   \n",
       "1987      1  17712.759766  17930.609375  17711.800781  133030000   \n",
       "1988      1  17924.240234  18002.380859  17916.910156   82160000   \n",
       "\n",
       "      Subjectivity  Polarity  compound    neg    pos    neu  \n",
       "0         0.267549 -0.048568   -0.9982  0.235  0.041  0.724  \n",
       "1         0.374806  0.121956   -0.9858  0.191  0.089  0.721  \n",
       "2         0.536234 -0.044302   -0.9715  0.128  0.056  0.816  \n",
       "3         0.364021  0.011398   -0.9809  0.146  0.066  0.788  \n",
       "4         0.375099  0.040677   -0.9882  0.189  0.094  0.717  \n",
       "...            ...       ...       ...    ...    ...    ...  \n",
       "1984      0.352311 -0.014015   -0.9644  0.148  0.094  0.758  \n",
       "1985      0.352649  0.046560   -0.9571  0.132  0.102  0.767  \n",
       "1986      0.389617  0.052622   -0.9975  0.225  0.091  0.684  \n",
       "1987      0.382566  0.011243   -0.9977  0.202  0.061  0.738  \n",
       "1988      0.320261 -0.035458   -0.9983  0.212  0.059  0.729  \n",
       "\n",
       "[1989 rows x 11 columns]"
      ]
     },
     "execution_count": 43,
     "metadata": {},
     "output_type": "execute_result"
    }
   ],
   "source": [
    "df= merge[['Label','Open', 'High', 'Low','Volume','Subjectivity','Polarity','compound','neg','pos','neu']]\n",
    "df"
   ]
  },
  {
   "cell_type": "code",
   "execution_count": 44,
   "metadata": {
    "execution": {
     "iopub.execute_input": "2023-09-23T03:48:01.215055Z",
     "iopub.status.busy": "2023-09-23T03:48:01.214689Z",
     "iopub.status.idle": "2023-09-23T03:48:01.222333Z",
     "shell.execute_reply": "2023-09-23T03:48:01.221222Z",
     "shell.execute_reply.started": "2023-09-23T03:48:01.215026Z"
    }
   },
   "outputs": [],
   "source": [
    "X=df\n",
    "X = df.drop(['Label'], axis=1).values\n"
   ]
  },
  {
   "cell_type": "code",
   "execution_count": 45,
   "metadata": {
    "execution": {
     "iopub.execute_input": "2023-09-23T03:48:03.536370Z",
     "iopub.status.busy": "2023-09-23T03:48:03.535257Z",
     "iopub.status.idle": "2023-09-23T03:48:03.541570Z",
     "shell.execute_reply": "2023-09-23T03:48:03.540329Z",
     "shell.execute_reply.started": "2023-09-23T03:48:03.536327Z"
    }
   },
   "outputs": [],
   "source": [
    "y= np.array(df['Label'])"
   ]
  },
  {
   "cell_type": "code",
   "execution_count": 46,
   "metadata": {
    "execution": {
     "iopub.execute_input": "2023-09-23T03:48:06.034588Z",
     "iopub.status.busy": "2023-09-23T03:48:06.034189Z",
     "iopub.status.idle": "2023-09-23T03:48:06.041924Z",
     "shell.execute_reply": "2023-09-23T03:48:06.040871Z",
     "shell.execute_reply.started": "2023-09-23T03:48:06.034548Z"
    }
   },
   "outputs": [],
   "source": [
    "x_train, x_test, y_train, y_test= train_test_split(X,y, test_size=0.2, random_state= 0)"
   ]
  },
  {
   "cell_type": "code",
   "execution_count": 47,
   "metadata": {
    "execution": {
     "iopub.execute_input": "2023-09-23T03:48:10.447329Z",
     "iopub.status.busy": "2023-09-23T03:48:10.446930Z",
     "iopub.status.idle": "2023-09-23T03:48:10.473839Z",
     "shell.execute_reply": "2023-09-23T03:48:10.472238Z",
     "shell.execute_reply.started": "2023-09-23T03:48:10.447297Z"
    }
   },
   "outputs": [],
   "source": [
    "model= LinearDiscriminantAnalysis().fit(x_train, y_train)"
   ]
  },
  {
   "cell_type": "code",
   "execution_count": 48,
   "metadata": {
    "execution": {
     "iopub.execute_input": "2023-09-23T03:48:13.166688Z",
     "iopub.status.busy": "2023-09-23T03:48:13.166283Z",
     "iopub.status.idle": "2023-09-23T03:48:13.177144Z",
     "shell.execute_reply": "2023-09-23T03:48:13.175997Z",
     "shell.execute_reply.started": "2023-09-23T03:48:13.166656Z"
    }
   },
   "outputs": [
    {
     "data": {
      "text/plain": [
       "array([1, 1, 0, 0, 1, 1, 0, 0, 0, 0, 0, 1, 0, 1, 0, 1, 1, 1, 0, 1, 0, 1,\n",
       "       0, 1, 1, 0, 1, 0, 1, 0, 1, 0, 0, 1, 0, 1, 1, 1, 1, 1, 0, 0, 1, 0,\n",
       "       1, 1, 0, 1, 1, 0, 1, 1, 0, 0, 1, 1, 1, 1, 0, 1, 0, 1, 1, 1, 0, 1,\n",
       "       0, 1, 0, 0, 0, 0, 0, 1, 1, 1, 0, 0, 1, 0, 0, 1, 0, 0, 1, 1, 1, 1,\n",
       "       1, 1, 0, 0, 0, 0, 0, 1, 0, 1, 1, 0, 1, 0, 1, 0, 0, 0, 1, 0, 0, 0,\n",
       "       0, 0, 1, 0, 1, 1, 0, 0, 1, 0, 0, 0, 1, 1, 0, 1, 0, 1, 1, 0, 1, 1,\n",
       "       0, 0, 1, 1, 0, 0, 0, 1, 0, 1, 0, 0, 1, 1, 1, 1, 1, 0, 0, 1, 0, 1,\n",
       "       0, 0, 1, 0, 1, 0, 0, 1, 1, 1, 1, 0, 1, 1, 1, 1, 1, 0, 1, 0, 1, 0,\n",
       "       1, 1, 0, 1, 1, 1, 1, 0, 0, 0, 1, 0, 1, 1, 1, 0, 1, 1, 0, 0, 0, 1,\n",
       "       1, 0, 0, 1, 0, 1, 1, 0, 0, 0, 0, 0, 1, 1, 1, 1, 0, 1, 0, 0, 0, 1,\n",
       "       0, 1, 1, 0, 0, 1, 1, 0, 1, 0, 1, 0, 0, 1, 1, 1, 1, 1, 0, 1, 1, 0,\n",
       "       0, 1, 1, 0, 1, 1, 0, 1, 1, 0, 1, 1, 0, 0, 0, 0, 0, 1, 1, 0, 0, 0,\n",
       "       1, 0, 0, 0, 1, 1, 1, 0, 0, 0, 1, 1, 1, 1, 0, 1, 0, 1, 1, 1, 0, 0,\n",
       "       0, 0, 1, 1, 1, 1, 1, 1, 0, 0, 1, 0, 1, 1, 1, 1, 0, 1, 1, 1, 1, 1,\n",
       "       1, 1, 0, 1, 1, 0, 1, 1, 0, 1, 0, 1, 1, 1, 1, 1, 1, 1, 1, 0, 1, 1,\n",
       "       1, 0, 1, 0, 0, 1, 1, 1, 0, 0, 0, 1, 1, 0, 0, 1, 1, 0, 1, 1, 0, 1,\n",
       "       1, 1, 1, 1, 1, 1, 1, 0, 0, 0, 0, 0, 0, 1, 1, 1, 1, 1, 0, 1, 1, 0,\n",
       "       0, 0, 1, 0, 1, 1, 0, 0, 1, 1, 0, 0, 0, 1, 0, 1, 1, 1, 1, 1, 1, 1,\n",
       "       0, 0], dtype=int64)"
      ]
     },
     "execution_count": 48,
     "metadata": {},
     "output_type": "execute_result"
    }
   ],
   "source": [
    "predict= model.predict(x_test)\n",
    "\n",
    "predict"
   ]
  },
  {
   "cell_type": "code",
   "execution_count": 49,
   "metadata": {
    "execution": {
     "iopub.execute_input": "2023-09-23T03:48:16.275574Z",
     "iopub.status.busy": "2023-09-23T03:48:16.275160Z",
     "iopub.status.idle": "2023-09-23T03:48:16.665019Z",
     "shell.execute_reply": "2023-09-23T03:48:16.663944Z",
     "shell.execute_reply.started": "2023-09-23T03:48:16.275519Z"
    }
   },
   "outputs": [
    {
     "data": {
      "image/png": "[encoded data removed]",
      "text/plain": [
       "<Figure size 640x480 with 2 Axes>"
      ]
     },
     "metadata": {},
     "output_type": "display_data"
    }
   ],
   "source": [
    "from scikitplot.metrics import plot_confusion_matrix\n",
    "plot_confusion_matrix(y_test,predict);"
   ]
  }
 ],
 "metadata": {
  "kernelspec": {
   "display_name": "Python 3 (ipykernel)",
   "language": "python",
   "name": "python3"
  },
  "language_info": {
   "codemirror_mode": {
    "name": "ipython",
    "version": 3
   },
   "file_extension": ".py",
   "mimetype": "text/x-python",
   "name": "python",
   "nbconvert_exporter": "python",
   "pygments_lexer": "ipython3",
   "version": "3.11.4"
  }
 },
 "nbformat": 4,
 "nbformat_minor": 4
}
